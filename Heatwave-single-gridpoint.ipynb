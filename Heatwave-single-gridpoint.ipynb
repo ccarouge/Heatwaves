{
 "cells": [
  {
   "cell_type": "markdown",
   "metadata": {},
   "source": [
    "# Import modules and define functions"
   ]
  },
  {
   "cell_type": "code",
   "execution_count": 1,
   "metadata": {},
   "outputs": [],
   "source": [
    "import glob\n",
    "import matplotlib.cm as cm\n",
    "import matplotlib.colors as colors\n",
    "import matplotlib.pyplot as plt\n",
    "%matplotlib inline\n",
    "import numpy as np\n",
    "import pandas as pd\n",
    "from pandas import Series, DataFrame, Panel \n",
    "import xarray as xr "
   ]
  },
  {
   "cell_type": "markdown",
   "metadata": {},
   "source": [
    "Calculates daily climatology with a 15-day rolling window "
   ]
  },
  {
   "cell_type": "code",
   "execution_count": 2,
   "metadata": {},
   "outputs": [],
   "source": [
    "def daily_climatology (tmax):\n",
    "    \n",
    "    rolling_mean_dailytmax = tmax.rolling(time=15, center=True).mean()\n",
    "    \n",
    "    climatology = rolling_mean_dailytmax.groupby('time.dayofyear').mean('time')\n",
    "    \n",
    "    return climatology "
   ]
  },
  {
   "cell_type": "markdown",
   "metadata": {},
   "source": [
    "Calculates daily climatology of 90th percentile with a 15-day rolling window "
   ]
  },
  {
   "cell_type": "code",
   "execution_count": 3,
   "metadata": {},
   "outputs": [],
   "source": [
    "def climatology_90 (tmax):\n",
    "    rolling_mean_dailytmax = tmax.rolling(time=15, center=True).mean()\n",
    "    percentile_90 = rolling_mean_dailytmax.groupby('time.dayofyear').quantile(0.9)\n",
    "    \n",
    "    return percentile_90"
   ]
  },
  {
   "cell_type": "markdown",
   "metadata": {},
   "source": [
    "Identifies consecutive days on which the daily tmax exceeded the threshold "
   ]
  },
  {
   "cell_type": "code",
   "execution_count": 4,
   "metadata": {},
   "outputs": [],
   "source": [
    "def consecutive(data, stepsize=1):\n",
    "    return np.split(data, np.where(np.diff(data) != stepsize)[0]+1)"
   ]
  },
  {
   "cell_type": "markdown",
   "metadata": {},
   "source": [
    "Filters out events that lasted for a minimum of 3 days and returns day of the year and the duration of an event #doesn't work as expected "
   ]
  },
  {
   "cell_type": "code",
   "execution_count": 5,
   "metadata": {},
   "outputs": [],
   "source": [
    "def find_heat(x):\n",
    "    if x.size >= 3:\n",
    "        return x[0], x.size"
   ]
  },
  {
   "cell_type": "code",
   "execution_count": 6,
   "metadata": {},
   "outputs": [],
   "source": [
    "def duration (events):\n",
    "    return events[0], events.size   #problem with this function is that there is no iteration "
   ]
  },
  {
   "cell_type": "code",
   "execution_count": 7,
   "metadata": {},
   "outputs": [],
   "source": [
    "def duration2 (events):\n",
    "    return [(x[0], x.size) for x in events]"
   ]
  },
  {
   "cell_type": "markdown",
   "metadata": {},
   "source": [
    "# Opening yearly ERA5 surface Tmax files and dropped leap days"
   ]
  },
  {
   "cell_type": "code",
   "execution_count": 8,
   "metadata": {},
   "outputs": [],
   "source": [
    "files = sorted(glob.glob('/g/data/e14/cp3790/Charuni/ERA5-new/era5_dailytmax_*.nc'))\n",
    "\n",
    "#Slice the data for single lat lon in NSW\n",
    "era5_dailytmax_aus = xr.open_mfdataset(files, combine='by_coords').sel(time=slice('1982-12-25', '2013-01-07'), longitude=141.25, latitude=-33.75).load()\n",
    "daily_tmax = era5_dailytmax_aus[\"dmax\"].sel(time=~((era5_dailytmax_aus[\"dmax\"].time.dt.month == 2) & (era5_dailytmax_aus[\"dmax\"].time.dt.day == 29)))\n",
    "daily_tmax.attrs['units'] = 'deg C'"
   ]
  },
  {
   "cell_type": "markdown",
   "metadata": {},
   "source": [
    "# Code"
   ]
  },
  {
   "cell_type": "markdown",
   "metadata": {},
   "source": [
    "## For single year"
   ]
  },
  {
   "cell_type": "markdown",
   "metadata": {},
   "source": [
    "Calculate daily mean climatology and 90th percentile "
   ]
  },
  {
   "cell_type": "code",
   "execution_count": 9,
   "metadata": {},
   "outputs": [],
   "source": [
    "daily_mean = daily_climatology (daily_tmax)\n",
    "threshold = climatology_90 (daily_tmax)"
   ]
  },
  {
   "cell_type": "markdown",
   "metadata": {},
   "source": [
    "Select one year (2010 in this case) and compare each day of the year against the corresponding threshold value and return boolean 1s and 0s.\n",
    "\n",
    "The days on which the daily tmax exceeded the threshold are then filtered out.\n",
    "\n",
    "Consecutive days are identified "
   ]
  },
  {
   "cell_type": "code",
   "execution_count": 10,
   "metadata": {},
   "outputs": [],
   "source": [
    "year_2010 = daily_tmax.sel(time='2010')\n",
    "heatwave_days = (year_2010.groupby('time.dayofyear') > threshold).astype(int)\n",
    "heatwave_events = np.where(heatwave_days==1)\n",
    "counters = consecutive(heatwave_events[0].tolist())"
   ]
  },
  {
   "cell_type": "markdown",
   "metadata": {},
   "source": [
    "Events that last for at least 3 consecutive days are filtered and assigned to new array 'hottest' and gives us the start day of event and the number of days "
   ]
  },
  {
   "cell_type": "code",
   "execution_count": 11,
   "metadata": {},
   "outputs": [],
   "source": [
    "hottest_single = [(x[0], x.size) for x in counters if x.size >= 3]"
   ]
  },
  {
   "cell_type": "code",
   "execution_count": 12,
   "metadata": {},
   "outputs": [
    {
     "ename": "AttributeError",
     "evalue": "Unknown property cmap",
     "output_type": "error",
     "traceback": [
      "\u001b[0;31m---------------------------------------------------------------------------\u001b[0m",
      "\u001b[0;31mAttributeError\u001b[0m                            Traceback (most recent call last)",
      "\u001b[0;32m<ipython-input-12-5192b9f46330>\u001b[0m in \u001b[0;36m<module>\u001b[0;34m\u001b[0m\n\u001b[1;32m      1\u001b[0m heatwave_days.sel(time='2010-12-30').plot(cmap=plt.cm.get_cmap('YlOrRd', 2), \n\u001b[1;32m      2\u001b[0m             \u001b[0mvmin\u001b[0m\u001b[0;34m=\u001b[0m\u001b[0;36m0\u001b[0m\u001b[0;34m,\u001b[0m \u001b[0mvmax\u001b[0m\u001b[0;34m=\u001b[0m\u001b[0;36m1\u001b[0m\u001b[0;34m,\u001b[0m\u001b[0;34m\u001b[0m\u001b[0;34m\u001b[0m\u001b[0m\n\u001b[0;32m----> 3\u001b[0;31m             cbar_kwargs={'ticks':[0, 1]})\n\u001b[0m",
      "\u001b[0;32m/g/data3/hh5/public/apps/miniconda3/envs/analysis3-19.10/lib/python3.6/site-packages/xarray/plot/plot.py\u001b[0m in \u001b[0;36m__call__\u001b[0;34m(self, **kwargs)\u001b[0m\n\u001b[1;32m    463\u001b[0m \u001b[0;34m\u001b[0m\u001b[0m\n\u001b[1;32m    464\u001b[0m     \u001b[0;32mdef\u001b[0m \u001b[0m__call__\u001b[0m\u001b[0;34m(\u001b[0m\u001b[0mself\u001b[0m\u001b[0;34m,\u001b[0m \u001b[0;34m**\u001b[0m\u001b[0mkwargs\u001b[0m\u001b[0;34m)\u001b[0m\u001b[0;34m:\u001b[0m\u001b[0;34m\u001b[0m\u001b[0;34m\u001b[0m\u001b[0m\n\u001b[0;32m--> 465\u001b[0;31m         \u001b[0;32mreturn\u001b[0m \u001b[0mplot\u001b[0m\u001b[0;34m(\u001b[0m\u001b[0mself\u001b[0m\u001b[0;34m.\u001b[0m\u001b[0m_da\u001b[0m\u001b[0;34m,\u001b[0m \u001b[0;34m**\u001b[0m\u001b[0mkwargs\u001b[0m\u001b[0;34m)\u001b[0m\u001b[0;34m\u001b[0m\u001b[0;34m\u001b[0m\u001b[0m\n\u001b[0m\u001b[1;32m    466\u001b[0m \u001b[0;34m\u001b[0m\u001b[0m\n\u001b[1;32m    467\u001b[0m     \u001b[0;34m@\u001b[0m\u001b[0mfunctools\u001b[0m\u001b[0;34m.\u001b[0m\u001b[0mwraps\u001b[0m\u001b[0;34m(\u001b[0m\u001b[0mhist\u001b[0m\u001b[0;34m)\u001b[0m\u001b[0;34m\u001b[0m\u001b[0;34m\u001b[0m\u001b[0m\n",
      "\u001b[0;32m/g/data3/hh5/public/apps/miniconda3/envs/analysis3-19.10/lib/python3.6/site-packages/xarray/plot/plot.py\u001b[0m in \u001b[0;36mplot\u001b[0;34m(darray, row, col, col_wrap, ax, hue, rtol, subplot_kws, **kwargs)\u001b[0m\n\u001b[1;32m    200\u001b[0m     \u001b[0mkwargs\u001b[0m\u001b[0;34m[\u001b[0m\u001b[0;34m\"ax\"\u001b[0m\u001b[0;34m]\u001b[0m \u001b[0;34m=\u001b[0m \u001b[0max\u001b[0m\u001b[0;34m\u001b[0m\u001b[0;34m\u001b[0m\u001b[0m\n\u001b[1;32m    201\u001b[0m \u001b[0;34m\u001b[0m\u001b[0m\n\u001b[0;32m--> 202\u001b[0;31m     \u001b[0;32mreturn\u001b[0m \u001b[0mplotfunc\u001b[0m\u001b[0;34m(\u001b[0m\u001b[0mdarray\u001b[0m\u001b[0;34m,\u001b[0m \u001b[0;34m**\u001b[0m\u001b[0mkwargs\u001b[0m\u001b[0;34m)\u001b[0m\u001b[0;34m\u001b[0m\u001b[0;34m\u001b[0m\u001b[0m\n\u001b[0m\u001b[1;32m    203\u001b[0m \u001b[0;34m\u001b[0m\u001b[0m\n\u001b[1;32m    204\u001b[0m \u001b[0;34m\u001b[0m\u001b[0m\n",
      "\u001b[0;32m/g/data3/hh5/public/apps/miniconda3/envs/analysis3-19.10/lib/python3.6/site-packages/xarray/plot/plot.py\u001b[0m in \u001b[0;36mhist\u001b[0;34m(darray, figsize, size, aspect, ax, xincrease, yincrease, xscale, yscale, xticks, yticks, xlim, ylim, **kwargs)\u001b[0m\n\u001b[1;32m    439\u001b[0m     \u001b[0mno_nan\u001b[0m \u001b[0;34m=\u001b[0m \u001b[0mno_nan\u001b[0m\u001b[0;34m[\u001b[0m\u001b[0mpd\u001b[0m\u001b[0;34m.\u001b[0m\u001b[0mnotnull\u001b[0m\u001b[0;34m(\u001b[0m\u001b[0mno_nan\u001b[0m\u001b[0;34m)\u001b[0m\u001b[0;34m]\u001b[0m\u001b[0;34m\u001b[0m\u001b[0;34m\u001b[0m\u001b[0m\n\u001b[1;32m    440\u001b[0m \u001b[0;34m\u001b[0m\u001b[0m\n\u001b[0;32m--> 441\u001b[0;31m     \u001b[0mprimitive\u001b[0m \u001b[0;34m=\u001b[0m \u001b[0max\u001b[0m\u001b[0;34m.\u001b[0m\u001b[0mhist\u001b[0m\u001b[0;34m(\u001b[0m\u001b[0mno_nan\u001b[0m\u001b[0;34m,\u001b[0m \u001b[0;34m**\u001b[0m\u001b[0mkwargs\u001b[0m\u001b[0;34m)\u001b[0m\u001b[0;34m\u001b[0m\u001b[0;34m\u001b[0m\u001b[0m\n\u001b[0m\u001b[1;32m    442\u001b[0m \u001b[0;34m\u001b[0m\u001b[0m\n\u001b[1;32m    443\u001b[0m     \u001b[0max\u001b[0m\u001b[0;34m.\u001b[0m\u001b[0mset_title\u001b[0m\u001b[0;34m(\u001b[0m\u001b[0;34m\"Histogram\"\u001b[0m\u001b[0;34m)\u001b[0m\u001b[0;34m\u001b[0m\u001b[0;34m\u001b[0m\u001b[0m\n",
      "\u001b[0;32m/g/data3/hh5/public/apps/miniconda3/envs/analysis3-19.10/lib/python3.6/site-packages/matplotlib/__init__.py\u001b[0m in \u001b[0;36minner\u001b[0;34m(ax, *args, **kwargs)\u001b[0m\n\u001b[1;32m   1865\u001b[0m                         \u001b[0;34m\"the Matplotlib list!)\"\u001b[0m \u001b[0;34m%\u001b[0m \u001b[0;34m(\u001b[0m\u001b[0mlabel_namer\u001b[0m\u001b[0;34m,\u001b[0m \u001b[0mfunc\u001b[0m\u001b[0;34m.\u001b[0m\u001b[0m__name__\u001b[0m\u001b[0;34m)\u001b[0m\u001b[0;34m,\u001b[0m\u001b[0;34m\u001b[0m\u001b[0;34m\u001b[0m\u001b[0m\n\u001b[1;32m   1866\u001b[0m                         RuntimeWarning, stacklevel=2)\n\u001b[0;32m-> 1867\u001b[0;31m             \u001b[0;32mreturn\u001b[0m \u001b[0mfunc\u001b[0m\u001b[0;34m(\u001b[0m\u001b[0max\u001b[0m\u001b[0;34m,\u001b[0m \u001b[0;34m*\u001b[0m\u001b[0margs\u001b[0m\u001b[0;34m,\u001b[0m \u001b[0;34m**\u001b[0m\u001b[0mkwargs\u001b[0m\u001b[0;34m)\u001b[0m\u001b[0;34m\u001b[0m\u001b[0;34m\u001b[0m\u001b[0m\n\u001b[0m\u001b[1;32m   1868\u001b[0m \u001b[0;34m\u001b[0m\u001b[0m\n\u001b[1;32m   1869\u001b[0m         inner.__doc__ = _add_data_doc(inner.__doc__,\n",
      "\u001b[0;32m/g/data3/hh5/public/apps/miniconda3/envs/analysis3-19.10/lib/python3.6/site-packages/matplotlib/axes/_axes.py\u001b[0m in \u001b[0;36mhist\u001b[0;34m(***failed resolving arguments***)\u001b[0m\n\u001b[1;32m   6825\u001b[0m             \u001b[0;32mif\u001b[0m \u001b[0mpatch\u001b[0m\u001b[0;34m:\u001b[0m\u001b[0;34m\u001b[0m\u001b[0;34m\u001b[0m\u001b[0m\n\u001b[1;32m   6826\u001b[0m                 \u001b[0mp\u001b[0m \u001b[0;34m=\u001b[0m \u001b[0mpatch\u001b[0m\u001b[0;34m[\u001b[0m\u001b[0;36m0\u001b[0m\u001b[0;34m]\u001b[0m\u001b[0;34m\u001b[0m\u001b[0;34m\u001b[0m\u001b[0m\n\u001b[0;32m-> 6827\u001b[0;31m                 \u001b[0mp\u001b[0m\u001b[0;34m.\u001b[0m\u001b[0mupdate\u001b[0m\u001b[0;34m(\u001b[0m\u001b[0mkwargs\u001b[0m\u001b[0;34m)\u001b[0m\u001b[0;34m\u001b[0m\u001b[0;34m\u001b[0m\u001b[0m\n\u001b[0m\u001b[1;32m   6828\u001b[0m                 \u001b[0;32mif\u001b[0m \u001b[0mlbl\u001b[0m \u001b[0;32mis\u001b[0m \u001b[0;32mnot\u001b[0m \u001b[0;32mNone\u001b[0m\u001b[0;34m:\u001b[0m\u001b[0;34m\u001b[0m\u001b[0;34m\u001b[0m\u001b[0m\n\u001b[1;32m   6829\u001b[0m                     \u001b[0mp\u001b[0m\u001b[0;34m.\u001b[0m\u001b[0mset_label\u001b[0m\u001b[0;34m(\u001b[0m\u001b[0mlbl\u001b[0m\u001b[0;34m)\u001b[0m\u001b[0;34m\u001b[0m\u001b[0;34m\u001b[0m\u001b[0m\n",
      "\u001b[0;32m/g/data3/hh5/public/apps/miniconda3/envs/analysis3-19.10/lib/python3.6/site-packages/matplotlib/artist.py\u001b[0m in \u001b[0;36mupdate\u001b[0;34m(self, props)\u001b[0m\n\u001b[1;32m    886\u001b[0m         \u001b[0;32mtry\u001b[0m\u001b[0;34m:\u001b[0m\u001b[0;34m\u001b[0m\u001b[0;34m\u001b[0m\u001b[0m\n\u001b[1;32m    887\u001b[0m             ret = [_update_property(self, k, v)\n\u001b[0;32m--> 888\u001b[0;31m                    for k, v in props.items()]\n\u001b[0m\u001b[1;32m    889\u001b[0m         \u001b[0;32mfinally\u001b[0m\u001b[0;34m:\u001b[0m\u001b[0;34m\u001b[0m\u001b[0;34m\u001b[0m\u001b[0m\n\u001b[1;32m    890\u001b[0m             \u001b[0mself\u001b[0m\u001b[0;34m.\u001b[0m\u001b[0meventson\u001b[0m \u001b[0;34m=\u001b[0m \u001b[0mstore\u001b[0m\u001b[0;34m\u001b[0m\u001b[0;34m\u001b[0m\u001b[0m\n",
      "\u001b[0;32m/g/data3/hh5/public/apps/miniconda3/envs/analysis3-19.10/lib/python3.6/site-packages/matplotlib/artist.py\u001b[0m in \u001b[0;36m<listcomp>\u001b[0;34m(.0)\u001b[0m\n\u001b[1;32m    886\u001b[0m         \u001b[0;32mtry\u001b[0m\u001b[0;34m:\u001b[0m\u001b[0;34m\u001b[0m\u001b[0;34m\u001b[0m\u001b[0m\n\u001b[1;32m    887\u001b[0m             ret = [_update_property(self, k, v)\n\u001b[0;32m--> 888\u001b[0;31m                    for k, v in props.items()]\n\u001b[0m\u001b[1;32m    889\u001b[0m         \u001b[0;32mfinally\u001b[0m\u001b[0;34m:\u001b[0m\u001b[0;34m\u001b[0m\u001b[0;34m\u001b[0m\u001b[0m\n\u001b[1;32m    890\u001b[0m             \u001b[0mself\u001b[0m\u001b[0;34m.\u001b[0m\u001b[0meventson\u001b[0m \u001b[0;34m=\u001b[0m \u001b[0mstore\u001b[0m\u001b[0;34m\u001b[0m\u001b[0;34m\u001b[0m\u001b[0m\n",
      "\u001b[0;32m/g/data3/hh5/public/apps/miniconda3/envs/analysis3-19.10/lib/python3.6/site-packages/matplotlib/artist.py\u001b[0m in \u001b[0;36m_update_property\u001b[0;34m(self, k, v)\u001b[0m\n\u001b[1;32m    879\u001b[0m                 \u001b[0mfunc\u001b[0m \u001b[0;34m=\u001b[0m \u001b[0mgetattr\u001b[0m\u001b[0;34m(\u001b[0m\u001b[0mself\u001b[0m\u001b[0;34m,\u001b[0m \u001b[0;34m'set_'\u001b[0m \u001b[0;34m+\u001b[0m \u001b[0mk\u001b[0m\u001b[0;34m,\u001b[0m \u001b[0;32mNone\u001b[0m\u001b[0;34m)\u001b[0m\u001b[0;34m\u001b[0m\u001b[0;34m\u001b[0m\u001b[0m\n\u001b[1;32m    880\u001b[0m                 \u001b[0;32mif\u001b[0m \u001b[0;32mnot\u001b[0m \u001b[0mcallable\u001b[0m\u001b[0;34m(\u001b[0m\u001b[0mfunc\u001b[0m\u001b[0;34m)\u001b[0m\u001b[0;34m:\u001b[0m\u001b[0;34m\u001b[0m\u001b[0;34m\u001b[0m\u001b[0m\n\u001b[0;32m--> 881\u001b[0;31m                     \u001b[0;32mraise\u001b[0m \u001b[0mAttributeError\u001b[0m\u001b[0;34m(\u001b[0m\u001b[0;34m'Unknown property %s'\u001b[0m \u001b[0;34m%\u001b[0m \u001b[0mk\u001b[0m\u001b[0;34m)\u001b[0m\u001b[0;34m\u001b[0m\u001b[0;34m\u001b[0m\u001b[0m\n\u001b[0m\u001b[1;32m    882\u001b[0m                 \u001b[0;32mreturn\u001b[0m \u001b[0mfunc\u001b[0m\u001b[0;34m(\u001b[0m\u001b[0mv\u001b[0m\u001b[0;34m)\u001b[0m\u001b[0;34m\u001b[0m\u001b[0;34m\u001b[0m\u001b[0m\n\u001b[1;32m    883\u001b[0m \u001b[0;34m\u001b[0m\u001b[0m\n",
      "\u001b[0;31mAttributeError\u001b[0m: Unknown property cmap"
     ]
    },
    {
     "data": {
      "image/png": "[encoded data removed]",
      "text/plain": [
       "<Figure size 432x288 with 1 Axes>"
      ]
     },
     "metadata": {
      "needs_background": "light"
     },
     "output_type": "display_data"
    }
   ],
   "source": [
    "#heatwave_days.sel(time='2010-12-30').plot(cmap=plt.cm.get_cmap('YlOrRd', 2), \n",
    "            vmin=0, vmax=1,\n",
    "            cbar_kwargs={'ticks':[0, 1]})"
   ]
  },
  {
   "cell_type": "markdown",
   "metadata": {},
   "source": [
    "## For multiple years "
   ]
  },
  {
   "cell_type": "code",
   "execution_count": 18,
   "metadata": {},
   "outputs": [],
   "source": [
    "multiple_years = daily_tmax.sel(time=slice('2010', '2012'))"
   ]
  },
  {
   "cell_type": "code",
   "execution_count": 16,
   "metadata": {},
   "outputs": [
    {
     "ename": "SyntaxError",
     "evalue": "invalid syntax (<ipython-input-16-1f68087b756d>, line 5)",
     "output_type": "error",
     "traceback": [
      "\u001b[0;36m  File \u001b[0;32m\"<ipython-input-16-1f68087b756d>\"\u001b[0;36m, line \u001b[0;32m5\u001b[0m\n\u001b[0;31m    heatwave_days = (g/data/e14/cp3790/Charuni/ERA5-new/era5_dailytmax_*.nc.groupby('time.dayofyear') > threshold).astype(int)\u001b[0m\n\u001b[0m                                                                        ^\u001b[0m\n\u001b[0;31mSyntaxError\u001b[0m\u001b[0;31m:\u001b[0m invalid syntax\n"
     ]
    }
   ],
   "source": [
    "years = ['2010', '2011', '2012']\n",
    "for year in years: # loop through the number of files I would like\n",
    "    heatwave_days = (g/data/e14/cp3790/Charuni/ERA5-new/era5_dailytmax_*.nc.groupby('time.dayofyear') > threshold).astype(int)"
   ]
  },
  {
   "cell_type": "code",
   "execution_count": 14,
   "metadata": {},
   "outputs": [
    {
     "data": {
      "text/html": [
       "<pre>&lt;xarray.DataArray &#x27;dmax&#x27; (time: 365)&gt;\n",
       "array([38.33358  , 25.692438 , 25.753778 , 30.217737 , 35.434013 ,\n",
       "       34.854424 , 35.16604  , 38.79531  , 41.917656 , 43.273796 ,\n",
       "       42.83303  , 39.292564 , 26.935572 , 28.322382 , 32.8525   ,\n",
       "       34.65261  , 24.126429 , 24.429926 , 27.395685 , 37.05169  ,\n",
       "       41.265404 , 42.96218  , 30.261316 , 32.87188  , 36.086266 ,\n",
       "       36.39785  , 35.06594  , 34.655846 , 31.75146  , 37.32778  ,\n",
       "       38.767845 , 37.028465 , 35.311333 , 31.772303 , 26.93847  ,\n",
       "       26.192041 , 28.185816 , 35.399742 , 36.724022 , 37.118523 ,\n",
       "       38.11541  , 38.94039  , 30.610102 , 31.045527 , 31.241938 ,\n",
       "       30.577356 , 33.890495 , 35.54705  , 34.103294 , 35.67147  ,\n",
       "       38.045006 , 39.493675 , 30.858912 , 25.635492 , 29.559198 ,\n",
       "       33.613853 , 37.116875 , 34.46505  , 29.03866  , 25.799463 ,\n",
       "       29.77151  , 31.525263 , 22.720545 , 28.636652 , 21.385096 ,\n",
       "       24.133142 , 23.540003 , 21.438257 , 20.778223 , 23.946283 ,\n",
       "       27.820642 , 29.562372 , 29.816095 , 32.74926  , 34.01101  ,\n",
       "       34.331566 , 34.24758  , 34.609306 , 32.95156  , 30.897821 ,\n",
       "       26.678888 , 27.38177  , 29.005213 , 32.372124 , 34.144737 ,\n",
       "       35.111595 , 33.522423 , 25.604029 , 23.82284  , 24.537714 ,\n",
       "       25.896265 , 25.586634 , 23.97735  , 25.925928 , 31.20431  ,\n",
       "       22.714777 , 24.87655  , 22.83529  , 20.532618 , 21.669123 ,\n",
       "       18.548822 , 18.166895 , 18.191004 , 19.35531  , 19.844751 ,\n",
       "       23.677027 , 28.054346 , 28.67544  , 29.578333 , 29.430017 ,\n",
       "       28.729212 , 29.884241 , 30.92251  , 21.689508 , 19.683466 ,\n",
       "       21.611658 , 20.957178 , 20.400965 , 19.798426 , 19.844751 ,\n",
       "       23.930231 , 23.2102   , 25.533472 , 23.74972  , 17.469263 ,\n",
       "       20.255243 , 21.474482 , 22.770502 , 23.26974  , 24.243189 ,\n",
       "       16.56109  , 15.731623 , 16.282679 , 17.695826 , 18.536829 ,\n",
       "       19.880854 , 17.607508 , 18.913141 , 19.642756 , 19.911554 ,\n",
       "       19.508356 , 18.951532 , 19.095545 , 19.034113 , 15.1748295,\n",
       "       17.793756 , 16.99502  , 18.139368 , 14.942499 , 16.346033 ,\n",
       "       16.69549  , 15.92486  , 16.863611 , 16.836329 , 16.010553 ,\n",
       "       15.802149 , 14.255732 , 12.882654 , 14.341425 , 15.034784 ,\n",
       "       14.869226 , 14.861444 , 13.597437 , 13.057947 , 12.312006 ,\n",
       "       15.145807 , 20.077173 , 16.686365 , 16.974634 , 17.654352 ,\n",
       "       17.297937 , 16.267633 , 15.68725  , 16.976557 , 20.87765  ,\n",
       "       15.106836 , 12.707392 , 11.548548 , 13.57406  , 14.041498 ,\n",
       "       13.924646 , 13.257959 , 12.194757 , 12.889704 , 12.509546 ,\n",
       "       11.048395 , 12.836237 , 14.513178 , 14.307276 , 16.25152  ,\n",
       "       17.162256 , 16.326746 , 16.130762 , 18.247248 , 15.433832 ,\n",
       "       14.540918 , 13.588587 , 13.543055 , 14.883417 , 12.903559 ,\n",
       "       13.61828  , 14.036036 , 14.37063  , 13.8380375, 13.182703 ,\n",
       "       14.877497 , 15.433832 , 15.90307  , 16.534632 , 17.837397 ,\n",
       "       20.579523 , 16.803919 , 13.615137 , 14.307825 , 12.700037 ,\n",
       "       14.130243 , 12.65127  , 12.567377 , 14.358545 , 16.949701 ,\n",
       "       17.767237 , 12.294214 , 15.523401 , 14.366358 , 15.226831 ,\n",
       "       16.307764 , 14.750727 , 13.410273 , 14.477564 , 21.525202 ,\n",
       "       14.8970585, 13.7712345, 15.42193  , 15.866816 , 17.113611 ,\n",
       "       16.631678 , 14.93609  , 15.043421 , 14.2199955, 14.789759 ,\n",
       "       16.079493 , 18.623804 , 22.196405 , 19.847986 , 18.71789  ,\n",
       "       19.481226 , 16.844965 , 15.796778 , 14.65365  , 16.076044 ,\n",
       "       17.282465 , 21.154932 , 18.189142 , 15.703699 , 20.328333 ,\n",
       "       19.445856 , 16.995752 , 15.240107 , 15.050226 , 15.221491 ,\n",
       "       15.416986 , 15.724176 , 15.303431 , 18.205896 , 18.44607  ,\n",
       "       17.63064  , 20.53869  , 24.133783 , 21.24618  , 22.908716 ,\n",
       "       16.1412   , 16.392542 , 17.894983 , 21.864405 , 23.621607 ,\n",
       "       26.476587 , 29.782007 , 26.509119 , 27.755945 , 19.408442 ,\n",
       "       20.708368 , 22.011683 , 27.391138 , 27.156519 , 28.665369 ,\n",
       "       21.448236 , 24.232996 , 12.787317 , 14.554773 , 15.573816 ,\n",
       "       16.299982 , 19.620813 , 22.886866 , 26.091242 , 31.218958 ,\n",
       "       20.091791 , 21.217005 , 24.715967 , 27.355188 , 23.373255 ,\n",
       "       27.528162 , 33.051476 , 18.211298 , 16.496943 , 17.211206 ,\n",
       "       18.38714  , 17.272852 , 17.519403 , 21.488153 , 26.073267 ,\n",
       "       30.41659  , 26.451014 , 30.95556  , 34.578148 , 37.89727  ,\n",
       "       36.65972  , 18.442438 , 22.329004 , 22.189905 , 20.857508 ,\n",
       "       22.77627  , 22.466486 , 23.465387 , 29.409784 , 32.91543  ,\n",
       "       31.635187 , 30.810144 , 32.90435  , 27.717035 , 29.846033 ,\n",
       "       22.449121 , 18.532526 , 17.661676 , 20.963404 , 22.936121 ,\n",
       "       26.97857  , 31.786127 , 33.658897 , 33.20327  , 33.003746 ,\n",
       "       32.615685 , 25.740534 , 26.797876 , 20.632868 , 25.20791  ,\n",
       "       20.918818 , 23.200037 , 31.233118 , 25.720118 , 23.47027  ,\n",
       "       26.466364 , 25.393305 , 19.391687 , 21.113611 , 21.600672 ,\n",
       "       27.610132 , 30.007654 , 32.391014 , 33.358818 , 28.955011 ,\n",
       "       25.393305 , 27.167078 , 35.82229  , 38.64245  , 43.135796 ],\n",
       "      dtype=float32)\n",
       "Coordinates:\n",
       "    longitude  float32 141.25\n",
       "    latitude   float32 -33.75\n",
       "  * time       (time) datetime64[ns] 2010-01-01 2010-01-02 ... 2010-12-31\n",
       "Attributes:\n",
       "    long_name:  Daily maximum temperature at 2 metres\n",
       "    units:      deg C</pre>"
      ],
      "text/plain": [
       "<xarray.DataArray 'dmax' (time: 365)>\n",
       "array([38.33358  , 25.692438 , 25.753778 , 30.217737 , 35.434013 ,\n",
       "       34.854424 , 35.16604  , 38.79531  , 41.917656 , 43.273796 ,\n",
       "       42.83303  , 39.292564 , 26.935572 , 28.322382 , 32.8525   ,\n",
       "       34.65261  , 24.126429 , 24.429926 , 27.395685 , 37.05169  ,\n",
       "       41.265404 , 42.96218  , 30.261316 , 32.87188  , 36.086266 ,\n",
       "       36.39785  , 35.06594  , 34.655846 , 31.75146  , 37.32778  ,\n",
       "       38.767845 , 37.028465 , 35.311333 , 31.772303 , 26.93847  ,\n",
       "       26.192041 , 28.185816 , 35.399742 , 36.724022 , 37.118523 ,\n",
       "       38.11541  , 38.94039  , 30.610102 , 31.045527 , 31.241938 ,\n",
       "       30.577356 , 33.890495 , 35.54705  , 34.103294 , 35.67147  ,\n",
       "       38.045006 , 39.493675 , 30.858912 , 25.635492 , 29.559198 ,\n",
       "       33.613853 , 37.116875 , 34.46505  , 29.03866  , 25.799463 ,\n",
       "       29.77151  , 31.525263 , 22.720545 , 28.636652 , 21.385096 ,\n",
       "       24.133142 , 23.540003 , 21.438257 , 20.778223 , 23.946283 ,\n",
       "       27.820642 , 29.562372 , 29.816095 , 32.74926  , 34.01101  ,\n",
       "       34.331566 , 34.24758  , 34.609306 , 32.95156  , 30.897821 ,\n",
       "       26.678888 , 27.38177  , 29.005213 , 32.372124 , 34.144737 ,\n",
       "       35.111595 , 33.522423 , 25.604029 , 23.82284  , 24.537714 ,\n",
       "       25.896265 , 25.586634 , 23.97735  , 25.925928 , 31.20431  ,\n",
       "       22.714777 , 24.87655  , 22.83529  , 20.532618 , 21.669123 ,\n",
       "       18.548822 , 18.166895 , 18.191004 , 19.35531  , 19.844751 ,\n",
       "       23.677027 , 28.054346 , 28.67544  , 29.578333 , 29.430017 ,\n",
       "       28.729212 , 29.884241 , 30.92251  , 21.689508 , 19.683466 ,\n",
       "       21.611658 , 20.957178 , 20.400965 , 19.798426 , 19.844751 ,\n",
       "       23.930231 , 23.2102   , 25.533472 , 23.74972  , 17.469263 ,\n",
       "       20.255243 , 21.474482 , 22.770502 , 23.26974  , 24.243189 ,\n",
       "       16.56109  , 15.731623 , 16.282679 , 17.695826 , 18.536829 ,\n",
       "       19.880854 , 17.607508 , 18.913141 , 19.642756 , 19.911554 ,\n",
       "       19.508356 , 18.951532 , 19.095545 , 19.034113 , 15.1748295,\n",
       "       17.793756 , 16.99502  , 18.139368 , 14.942499 , 16.346033 ,\n",
       "       16.69549  , 15.92486  , 16.863611 , 16.836329 , 16.010553 ,\n",
       "       15.802149 , 14.255732 , 12.882654 , 14.341425 , 15.034784 ,\n",
       "       14.869226 , 14.861444 , 13.597437 , 13.057947 , 12.312006 ,\n",
       "       15.145807 , 20.077173 , 16.686365 , 16.974634 , 17.654352 ,\n",
       "       17.297937 , 16.267633 , 15.68725  , 16.976557 , 20.87765  ,\n",
       "       15.106836 , 12.707392 , 11.548548 , 13.57406  , 14.041498 ,\n",
       "       13.924646 , 13.257959 , 12.194757 , 12.889704 , 12.509546 ,\n",
       "       11.048395 , 12.836237 , 14.513178 , 14.307276 , 16.25152  ,\n",
       "       17.162256 , 16.326746 , 16.130762 , 18.247248 , 15.433832 ,\n",
       "       14.540918 , 13.588587 , 13.543055 , 14.883417 , 12.903559 ,\n",
       "       13.61828  , 14.036036 , 14.37063  , 13.8380375, 13.182703 ,\n",
       "       14.877497 , 15.433832 , 15.90307  , 16.534632 , 17.837397 ,\n",
       "       20.579523 , 16.803919 , 13.615137 , 14.307825 , 12.700037 ,\n",
       "       14.130243 , 12.65127  , 12.567377 , 14.358545 , 16.949701 ,\n",
       "       17.767237 , 12.294214 , 15.523401 , 14.366358 , 15.226831 ,\n",
       "       16.307764 , 14.750727 , 13.410273 , 14.477564 , 21.525202 ,\n",
       "       14.8970585, 13.7712345, 15.42193  , 15.866816 , 17.113611 ,\n",
       "       16.631678 , 14.93609  , 15.043421 , 14.2199955, 14.789759 ,\n",
       "       16.079493 , 18.623804 , 22.196405 , 19.847986 , 18.71789  ,\n",
       "       19.481226 , 16.844965 , 15.796778 , 14.65365  , 16.076044 ,\n",
       "       17.282465 , 21.154932 , 18.189142 , 15.703699 , 20.328333 ,\n",
       "       19.445856 , 16.995752 , 15.240107 , 15.050226 , 15.221491 ,\n",
       "       15.416986 , 15.724176 , 15.303431 , 18.205896 , 18.44607  ,\n",
       "       17.63064  , 20.53869  , 24.133783 , 21.24618  , 22.908716 ,\n",
       "       16.1412   , 16.392542 , 17.894983 , 21.864405 , 23.621607 ,\n",
       "       26.476587 , 29.782007 , 26.509119 , 27.755945 , 19.408442 ,\n",
       "       20.708368 , 22.011683 , 27.391138 , 27.156519 , 28.665369 ,\n",
       "       21.448236 , 24.232996 , 12.787317 , 14.554773 , 15.573816 ,\n",
       "       16.299982 , 19.620813 , 22.886866 , 26.091242 , 31.218958 ,\n",
       "       20.091791 , 21.217005 , 24.715967 , 27.355188 , 23.373255 ,\n",
       "       27.528162 , 33.051476 , 18.211298 , 16.496943 , 17.211206 ,\n",
       "       18.38714  , 17.272852 , 17.519403 , 21.488153 , 26.073267 ,\n",
       "       30.41659  , 26.451014 , 30.95556  , 34.578148 , 37.89727  ,\n",
       "       36.65972  , 18.442438 , 22.329004 , 22.189905 , 20.857508 ,\n",
       "       22.77627  , 22.466486 , 23.465387 , 29.409784 , 32.91543  ,\n",
       "       31.635187 , 30.810144 , 32.90435  , 27.717035 , 29.846033 ,\n",
       "       22.449121 , 18.532526 , 17.661676 , 20.963404 , 22.936121 ,\n",
       "       26.97857  , 31.786127 , 33.658897 , 33.20327  , 33.003746 ,\n",
       "       32.615685 , 25.740534 , 26.797876 , 20.632868 , 25.20791  ,\n",
       "       20.918818 , 23.200037 , 31.233118 , 25.720118 , 23.47027  ,\n",
       "       26.466364 , 25.393305 , 19.391687 , 21.113611 , 21.600672 ,\n",
       "       27.610132 , 30.007654 , 32.391014 , 33.358818 , 28.955011 ,\n",
       "       25.393305 , 27.167078 , 35.82229  , 38.64245  , 43.135796 ],\n",
       "      dtype=float32)\n",
       "Coordinates:\n",
       "    longitude  float32 141.25\n",
       "    latitude   float32 -33.75\n",
       "  * time       (time) datetime64[ns] 2010-01-01 2010-01-02 ... 2010-12-31\n",
       "Attributes:\n",
       "    long_name:  Daily maximum temperature at 2 metres\n",
       "    units:      deg C"
      ]
     },
     "execution_count": 14,
     "metadata": {},
     "output_type": "execute_result"
    }
   ],
   "source": [
    "multiple_years.loc['2010-01-01':'2010-12-31']"
   ]
  },
  {
   "cell_type": "code",
   "execution_count": null,
   "metadata": {},
   "outputs": [],
   "source": []
  }
 ],
 "metadata": {
  "hide_input": false,
  "kernelspec": {
   "display_name": "Python [conda env:analysis3-19.10]",
   "language": "python",
   "name": "conda-env-analysis3-19.10-py"
  },
  "language_info": {
   "codemirror_mode": {
    "name": "ipython",
    "version": 3
   },
   "file_extension": ".py",
   "mimetype": "text/x-python",
   "name": "python",
   "nbconvert_exporter": "python",
   "pygments_lexer": "ipython3",
   "version": "3.6.7"
  },
  "varInspector": {
   "cols": {
    "lenName": 16,
    "lenType": 16,
    "lenVar": 40
   },
   "kernels_config": {
    "python": {
     "delete_cmd_postfix": "",
     "delete_cmd_prefix": "del ",
     "library": "var_list.py",
     "varRefreshCmd": "print(var_dic_list())"
    },
    "r": {
     "delete_cmd_postfix": ") ",
     "delete_cmd_prefix": "rm(",
     "library": "var_list.r",
     "varRefreshCmd": "cat(var_dic_list()) "
    }
   },
   "position": {
    "height": "723.85px",
    "left": "1318px",
    "right": "20px",
    "top": "14px",
    "width": "549px"
   },
   "types_to_exclude": [
    "module",
    "function",
    "builtin_function_or_method",
    "instance",
    "_Feature"
   ],
   "window_display": false
  }
 },
 "nbformat": 4,
 "nbformat_minor": 2
}
