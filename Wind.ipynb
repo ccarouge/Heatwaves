{
 "cells": [
  {
   "cell_type": "markdown",
   "metadata": {},
   "source": [
    "## Import packages"
   ]
  },
  {
   "cell_type": "code",
   "execution_count": 2,
   "metadata": {},
   "outputs": [],
   "source": [
    "from cartopy import config\n",
    "import cartopy\n",
    "import cartopy.crs as ccrs\n",
    "import cmocean\n",
    "import glob\n",
    "import matplotlib.pyplot as plt\n",
    "import numpy as np\n",
    "import pandas as pd\n",
    "import xarray as xr"
   ]
  },
  {
   "cell_type": "markdown",
   "metadata": {},
   "source": [
    "## Wind speed"
   ]
  },
  {
   "cell_type": "code",
   "execution_count": 3,
   "metadata": {},
   "outputs": [],
   "source": [
    "lat = -31.0\n",
    "lon = 153.25"
   ]
  },
  {
   "cell_type": "code",
   "execution_count": 4,
   "metadata": {},
   "outputs": [],
   "source": [
    "mhw = xr.open_dataarray('/g/data/e14/cp3790/Charuni/Tasmania/aus-ocean-sev-2.nc').sel(latitude=lat, longitude=lon)\n",
    "thw = xr.open_dataarray('/g/data/e14/cp3790/Charuni/Tasmania/aus-coastal-sev.nc').sel(latitude=lat, longitude=lon)"
   ]
  },
  {
   "cell_type": "code",
   "execution_count": 5,
   "metadata": {},
   "outputs": [],
   "source": [
    "## wind speed\n",
    "\n",
    "ds = xr.open_dataset('/g/data/e14/cp3790/Charuni/Heatwaves/windspeed_anom.nc')\n",
    "windspeed_anom = ds.windspeed_anomaly "
   ]
  },
  {
   "cell_type": "code",
   "execution_count": null,
   "metadata": {},
   "outputs": [],
   "source": [
    "composite = windspeed_anom.where((thw>1) & (mhw>1), drop=True)"
   ]
  },
  {
   "cell_type": "code",
   "execution_count": null,
   "metadata": {},
   "outputs": [],
   "source": [
    "ds_u = xr.open_mfdataset('/g/data/e14/cp3790/Charuni/ERA5-WIND/u10/era5_dailyu10_*.nc').sel(latitude=slice(0, -60), longitude=slice(90, 180), time=slice('1982', '2018'))\n",
    "uwind = ds_u.u10"
   ]
  },
  {
   "cell_type": "code",
   "execution_count": null,
   "metadata": {},
   "outputs": [],
   "source": [
    "ds_v = xr.open_mfdataset('/g/data/e14/cp3790/Charuni/ERA5-WIND/v10/era5_dailyv10_*.nc').sel(latitude=slice(0, -60), longitude=slice(90, 180), time=slice('1982', '2018'))\n",
    "vwind = ds_v.v10"
   ]
  },
  {
   "cell_type": "code",
   "execution_count": null,
   "metadata": {},
   "outputs": [],
   "source": [
    "ulon = uwind.coords['longitude']\n",
    "vlon = vwind.coords['longitude']"
   ]
  },
  {
   "cell_type": "code",
   "execution_count": null,
   "metadata": {},
   "outputs": [],
   "source": [
    "x = ulon.values\n",
    "y = uwind.coords['latitude'].values\n",
    "u = uwind.data\n",
    "v = vwind.data"
   ]
  },
  {
   "cell_type": "code",
   "execution_count": null,
   "metadata": {},
   "outputs": [],
   "source": [
    "fig, ax = plt.subplots(figsize=(16,9))    \n",
    "ax = plt.axes(projection=ccrs.PlateCarree())\n",
    "ax.set_xticks([90, 105, 120, 135, 150, 165, 180], crs=ccrs.PlateCarree())\n",
    "ax.set_yticks([-60, -50, -40, -30, -20, -10, 0], crs=ccrs.PlateCarree())\n",
    "\n",
    "ploteo=composite.mean(dim='time').plot(\n",
    "            #cmap=plt.cm.get_cmap('bwr', 20), # Specify the colourmap of interest and also the number of discrete levels. I have 5, corresponding to the number of MHW severity categories. See https://matplotlib.org/3.1.0/tutorials/colors/colormaps.html for examples\n",
    "            cmap=cmocean.cm.balance,\n",
    "            vmin=-2.0, vmax=2.0, # Minimum and maximum values of the colormap\n",
    "       )\n",
    "\n",
    "ploteo.colorbar.ax.set_ylabel('mean windspeed anomalies (ms-1)',fontsize=20)\n",
    "ax.coastlines()\n",
    "ax.set_extent([90, 180, -60, 0],crs=ccrs.PlateCarree())\n",
    "plt.xlabel('Longitude',fontsize=16)\n",
    "plt.ylabel('Latitude', fontsize=16)\n",
    "plt.title('Composite mean of windspeed anomalies during THW events only', fontsize=20)\n",
    "plt.plot(153.25, -31.0,  markersize=10, marker='o', color='black')\n",
    "plt.quiver(y,u)\n",
    "plt.show()"
   ]
  }
 ],
 "metadata": {
  "hide_input": false,
  "kernelspec": {
   "display_name": "Python 3",
   "language": "python",
   "name": "python3"
  },
  "language_info": {
   "codemirror_mode": {
    "name": "ipython",
    "version": 3
   },
   "file_extension": ".py",
   "mimetype": "text/x-python",
   "name": "python",
   "nbconvert_exporter": "python",
   "pygments_lexer": "ipython3",
   "version": "3.7.6"
  },
  "varInspector": {
   "cols": {
    "lenName": 16,
    "lenType": 16,
    "lenVar": 40
   },
   "kernels_config": {
    "python": {
     "delete_cmd_postfix": "",
     "delete_cmd_prefix": "del ",
     "library": "var_list.py",
     "varRefreshCmd": "print(var_dic_list())"
    },
    "r": {
     "delete_cmd_postfix": ") ",
     "delete_cmd_prefix": "rm(",
     "library": "var_list.r",
     "varRefreshCmd": "cat(var_dic_list()) "
    }
   },
   "types_to_exclude": [
    "module",
    "function",
    "builtin_function_or_method",
    "instance",
    "_Feature"
   ],
   "window_display": false
  }
 },
 "nbformat": 4,
 "nbformat_minor": 4
}
