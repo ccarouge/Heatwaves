{
 "cells": [
  {
   "cell_type": "markdown",
   "metadata": {},
   "source": [
    "## Calculating event duration for heatwaves at a single grid point "
   ]
  },
  {
   "cell_type": "code",
   "execution_count": 1,
   "metadata": {},
   "outputs": [],
   "source": [
    "import xarray as xr\n",
    "import pandas\n",
    "import glob\n",
    "import matplotlib.pyplot as plt\n",
    "import matplotlib as mpl\n",
    "import seaborn as sns\n",
    "from scipy import stats\n",
    "from scipy.stats import ttest_ind "
   ]
  },
  {
   "cell_type": "code",
   "execution_count": 2,
   "metadata": {},
   "outputs": [],
   "source": [
    "lon = 115.25\n",
    "lat = -33.0"
   ]
  },
  {
   "cell_type": "code",
   "execution_count": 3,
   "metadata": {},
   "outputs": [],
   "source": [
    "thw = xr.open_dataset('/g/data/e14/cp3790/Charuni/Tasmania/aus-coastal-sev.nc').sel(latitude=lat, longitude=lon)\n",
    "mhw = xr.open_dataset('/g/data/e14/cp3790/Charuni/Tasmania/aus-ocean-sev-2.nc').sel(latitude=lat, longitude=lon)"
   ]
  },
  {
   "cell_type": "code",
   "execution_count": 4,
   "metadata": {},
   "outputs": [],
   "source": [
    "thw_sev = thw.severity\n",
    "thw_days = xr.where(thw_sev>1, 1, 0)"
   ]
  },
  {
   "cell_type": "code",
   "execution_count": 5,
   "metadata": {},
   "outputs": [],
   "source": [
    "mhw_sev = mhw.severity\n",
    "mhw_days = xr.where(mhw_sev>1, 1, 0)"
   ]
  },
  {
   "cell_type": "code",
   "execution_count": 6,
   "metadata": {},
   "outputs": [],
   "source": [
    "add = thw_days + mhw_days\n",
    "co = xr.where(add==2, 1, 0)   # when co==1, it represents a co-occurring event "
   ]
  },
  {
   "cell_type": "code",
   "execution_count": 29,
   "metadata": {},
   "outputs": [],
   "source": [
    "def event_durations(event_mask, dim='time'):\n",
    "    \"\"\"\n",
    "    Returns the lengths of events marked by 'event_mask'. Where 'event_mask' is \n",
    "    true an event is deemed active\n",
    "    \"\"\"\n",
    "    event_stats = []\n",
    "    \n",
    "    assert event_mask.ndim == 1, \"Only 1d arrays are implemented\"\n",
    "\n",
    "    # Loop over each entry, adding records for events to 'event_stats'\n",
    "    current_event = None\n",
    "    for i in range(event_mask.sizes[dim]):\n",
    "        event_active = event_mask.isel({dim:i})\n",
    "    \n",
    "        if event_active:\n",
    "            if not current_event:\n",
    "                # A new event\n",
    "                current_event = {'start': event_mask[dim].data[i], 'duration': 1}\n",
    "            else:\n",
    "                # An existing event\n",
    "                current_event['duration'] += 1\n",
    "        else:\n",
    "            if current_event:\n",
    "                # Event has finished, add to the record array\n",
    "                event_stats.append(current_event)\n",
    "                current_event = None\n",
    "\n",
    "    if current_event:\n",
    "        # Event active at the end\n",
    "        event_stats.append(current_event)\n",
    "\n",
    "    return pandas.DataFrame.from_records(event_stats, index='start')"
   ]
  },
  {
   "cell_type": "code",
   "execution_count": 32,
   "metadata": {},
   "outputs": [],
   "source": [
    "co_events = event_durations(co, dim='time')"
   ]
  },
  {
   "cell_type": "code",
   "execution_count": 33,
   "metadata": {},
   "outputs": [],
   "source": [
    "thw_only = event_durations(thw_days.where(co==0, drop=True), dim='time')"
   ]
  },
  {
   "cell_type": "code",
   "execution_count": null,
   "metadata": {},
   "outputs": [],
   "source": []
  }
 ],
 "metadata": {
  "hide_input": false,
  "kernelspec": {
   "display_name": "Python 3",
   "language": "python",
   "name": "python3"
  },
  "language_info": {
   "codemirror_mode": {
    "name": "ipython",
    "version": 3
   },
   "file_extension": ".py",
   "mimetype": "text/x-python",
   "name": "python",
   "nbconvert_exporter": "python",
   "pygments_lexer": "ipython3",
   "version": "3.7.6"
  },
  "varInspector": {
   "cols": {
    "lenName": 16,
    "lenType": 16,
    "lenVar": 40
   },
   "kernels_config": {
    "python": {
     "delete_cmd_postfix": "",
     "delete_cmd_prefix": "del ",
     "library": "var_list.py",
     "varRefreshCmd": "print(var_dic_list())"
    },
    "r": {
     "delete_cmd_postfix": ") ",
     "delete_cmd_prefix": "rm(",
     "library": "var_list.r",
     "varRefreshCmd": "cat(var_dic_list()) "
    }
   },
   "position": {
    "height": "271.85px",
    "left": "894.333px",
    "right": "20px",
    "top": "120px",
    "width": "352.333px"
   },
   "types_to_exclude": [
    "module",
    "function",
    "builtin_function_or_method",
    "instance",
    "_Feature"
   ],
   "window_display": false
  }
 },
 "nbformat": 4,
 "nbformat_minor": 2
}
