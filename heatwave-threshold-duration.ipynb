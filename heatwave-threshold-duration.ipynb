{
 "cells": [
  {
   "cell_type": "markdown",
   "metadata": {},
   "source": [
    "# Calculating thresholds to identify heatwave events based on Ritwik Misra's code"
   ]
  },
  {
   "cell_type": "markdown",
   "metadata": {},
   "source": [
    "## Import modules and define functions "
   ]
  },
  {
   "cell_type": "code",
   "execution_count": 1,
   "metadata": {},
   "outputs": [
    {
     "name": "stdout",
     "output_type": "stream",
     "text": [
      "Populating the interactive namespace from numpy and matplotlib\n"
     ]
    },
    {
     "name": "stderr",
     "output_type": "stream",
     "text": [
      "/g/data3/hh5/public/apps/miniconda3/envs/analysis3-19.10/lib/python3.6/site-packages/distributed/worker.py:485: UserWarning: The local_dir keyword has moved to local_directory\n",
      "  warnings.warn(\"The local_dir keyword has moved to local_directory\")\n",
      "/g/data3/hh5/public/apps/miniconda3/envs/analysis3-19.10/lib/python3.6/contextlib.py:88: UserWarning: Creating scratch directories is taking a surprisingly long time. This is often due to running workers on a network file system. Consider specifying a local-directory to point workers to write scratch data to a local disk.\n",
      "  next(self.gen)\n"
     ]
    },
    {
     "data": {
      "text/html": [
       "<table style=\"border: 2px solid white;\">\n",
       "<tr>\n",
       "<td style=\"vertical-align: top; border: 0px solid white\">\n",
       "<h3 style=\"text-align: left;\">Client</h3>\n",
       "<ul style=\"text-align: left; list-style: none; margin: 0; padding: 0;\">\n",
       "  <li><b>Scheduler: </b>inproc://10.0.64.2/27606/1</li>\n",
       "  <li><b>Dashboard: </b><a href='http://10.0.64.2/27606/1:8787/status' target='_blank'>http://10.0.64.2/27606/1:8787/status</a>\n",
       "</ul>\n",
       "</td>\n",
       "<td style=\"vertical-align: top; border: 0px solid white\">\n",
       "<h3 style=\"text-align: left;\">Cluster</h3>\n",
       "<ul style=\"text-align: left; list-style:none; margin: 0; padding: 0;\">\n",
       "  <li><b>Workers: </b>1</li>\n",
       "  <li><b>Cores: </b>8</li>\n",
       "  <li><b>Memory: </b>33.67 GB</li>\n",
       "</ul>\n",
       "</td>\n",
       "</tr>\n",
       "</table>"
      ],
      "text/plain": [
       "<Client: 'inproc://10.0.64.2/27606/1' processes=1 threads=8, memory=33.67 GB>"
      ]
     },
     "execution_count": 1,
     "metadata": {},
     "output_type": "execute_result"
    }
   ],
   "source": [
    "import dask as da\n",
    "from dask.distributed import LocalCluster, Client\n",
    "from datetime import date\n",
    "import glob\n",
    "import holoviews as hv\n",
    "from matplotlib import pyplot as plt\n",
    "import marineHeatWaves as mhw\n",
    "import numpy as np\n",
    "import time\n",
    "import xarray as xr\n",
    "%pylab inline\n",
    "local_dir = \"/g/data/e14/cp3790/dask-workers\"\n",
    "cluster = LocalCluster(processes=False, local_dir=local_dir)\n",
    "client = Client(cluster)\n",
    "client"
   ]
  },
  {
   "cell_type": "code",
   "execution_count": 2,
   "metadata": {},
   "outputs": [],
   "source": [
    "def reshape_data(da):\n",
    "        da_groupby = list(da.groupby('time.dayofyear'))\n",
    "        dayofyear = []\n",
    "        da_dayofyear = []\n",
    "        for item in list(da_groupby):\n",
    "            dayofyear.append(item[0])\n",
    "            da_tmp = item[1]\n",
    "            da_tmp['time'] = da_tmp['time.year']\n",
    "            da_tmp = da_tmp.rename({'time': 'year'})\n",
    "            da_tmp = da_tmp.assign_coords(dayofyear=item[0])\n",
    "            da_dayofyear.append(da_tmp)\n",
    "        da_reshaped = xr.concat(da_dayofyear, dim='dayofyear')\n",
    "        return da_reshaped"
   ]
  },
  {
   "cell_type": "code",
   "execution_count": 3,
   "metadata": {},
   "outputs": [],
   "source": [
    "def consecutive(data, stepsize=1):\n",
    "    return np.split(data, np.where(np.diff(data) != stepsize)[0]+1)"
   ]
  },
  {
   "cell_type": "markdown",
   "metadata": {},
   "source": [
    "## Opening files"
   ]
  },
  {
   "cell_type": "code",
   "execution_count": 149,
   "metadata": {},
   "outputs": [],
   "source": [
    "files = sorted(glob.glob('/g/data/e14/cp3790/Charuni/ERA5-new/era5_dailytmax_*.nc'))\n",
    "\n",
    "\n",
    "era5_dailytmax_aus = xr.open_mfdataset(files, combine='by_coords').sel(time=slice('1979', '2018'), longitude=141.25, latitude=-33.75)\n",
    "baseline_tmax = era5_dailytmax_aus[\"dmax\"].load() #.sel(time=~((era5_dailytmax_aus[\"dmax\"].time.dt.month == 2) & (era5_dailytmax_aus[\"dmax\"].time.dt.day == 29)))\n",
    "baseline_tmax.attrs['units'] = 'deg C'\n",
    "obs_tmax = baseline_tmax.sel(time=slice('1983', '2012'))\n",
    "obs_tmax.attrs['units'] = 'deg C'"
   ]
  },
  {
   "cell_type": "markdown",
   "metadata": {},
   "source": [
    "## Reshaping and smoothening the data"
   ]
  },
  {
   "cell_type": "code",
   "execution_count": 156,
   "metadata": {},
   "outputs": [],
   "source": [
    "# We get the data ready to have a rolling mean performed upon it. This is performed in the reshape_data function (created by Guillaume Serazin)\n",
    "\n",
    "reshaped_tmax = reshape_data(baseline_tmax)"
   ]
  },
  {
   "cell_type": "code",
   "execution_count": 153,
   "metadata": {},
   "outputs": [],
   "source": [
    "#The data is 'circularized', making rolling window processes possible for first and last days.\n",
    "\n",
    "#tmax_reshaped = reshaped_tmax.isel(dayofyear = slice(0,-1)) # Removes day 366"
   ]
  },
  {
   "cell_type": "code",
   "execution_count": 157,
   "metadata": {},
   "outputs": [],
   "source": [
    "start = reshaped_tmax[:31] # the first 31 days \n",
    "start['dayofyear'] = range(366,397) # the first 31 days will be 'stitched' to the last 31 days \n",
    "end = reshaped_tmax[-31:] # the last 31 days \n",
    "end['dayofyear'] = range(-30, 1) # the last 31 days will be 'stitched' to the first 31 days \n",
    "circular_tmax = xr.concat([end, reshaped_tmax, start], dim = 'dayofyear').chunk({'dayofyear' : 31})"
   ]
  },
  {
   "cell_type": "markdown",
   "metadata": {},
   "source": [
    "## Calculating daily climatology with a 15 day rolling window, further smoothened by a 31-day window"
   ]
  },
  {
   "cell_type": "code",
   "execution_count": 158,
   "metadata": {},
   "outputs": [],
   "source": [
    "raw_tmax = circular_tmax.mean('year')\n",
    "tmax_climatology_smooth = raw_tmax.rolling(dayofyear = 15, center = True).mean() # smoothen it once with a 15-day rolling window\n",
    "tmax_climatology_smoother = tmax_climatology_smooth.rolling(dayofyear = 31, center = True).mean() # smoothen it again by running a 31-day window "
   ]
  },
  {
   "cell_type": "code",
   "execution_count": 159,
   "metadata": {},
   "outputs": [],
   "source": [
    "tmax_climatology = tmax_climatology_smoother.isel(dayofyear = slice(31,-31)) # drop the first and last 31 days \n",
    "tmax_climatology.to_netcdf('/g/data/e14/cp3790/Charuni/climatology-single-gridpoint-366.nc')"
   ]
  },
  {
   "cell_type": "markdown",
   "metadata": {},
   "source": [
    "## Calculating threshold (90th percentile of daily climatology)"
   ]
  },
  {
   "cell_type": "code",
   "execution_count": 160,
   "metadata": {},
   "outputs": [],
   "source": [
    "percRolling = circular_tmax.rolling(dayofyear=15, center=True).construct('rolling_days')\n",
    "# This takes in the circular_tmax, performs the percentile calculation, then creates a new dimension and coordinate names \n",
    "# to prepapre the data for the final output\n",
    "stacked = percRolling.stack(z = ('rolling_days', 'year'))\n",
    "rawPerc_data = da.array.apply_along_axis(np.nanpercentile, stacked.get_axis_num('z'), stacked.data, 90)\n",
    "tmax_coords = circular_tmax.coords\n",
    "new_coords = {name : tmax_coords[name] for name in tmax_coords if name != 'year'}\n",
    "new_dims = [name for name in circular_tmax.dims if name != 'year']\n",
    "rawPerc = xr.DataArray(rawPerc_data, coords = new_coords, dims = new_dims)\n",
    "\n",
    "# Unlike in climatology (in which you get the rolling mean in a straightforward way, this uses np.nanpercentile,\n",
    "# so we have to get a rolling construct first and then do the 90th percentile calculation)"
   ]
  },
  {
   "cell_type": "code",
   "execution_count": 161,
   "metadata": {},
   "outputs": [
    {
     "name": "stdout",
     "output_type": "stream",
     "text": [
      "Data smoothed, DONE.\n"
     ]
    }
   ],
   "source": [
    "#Final rolling mean over a month (smoothing)\n",
    "\n",
    "tmax_threshold = rawPerc.rolling(dayofyear=31, center = True).mean()\n",
    "print(\"Data smoothed, DONE.\")\n",
    "tmax_threshold = tmax_threshold.isel(dayofyear = slice(31,-31))\n",
    "tmax_threshold.to_netcdf('/g/data/e14/cp3790/Charuni/thresh-single-gridpoint-366.nc')"
   ]
  },
  {
   "cell_type": "markdown",
   "metadata": {},
   "source": [
    "## Identifying heatwave events"
   ]
  },
  {
   "cell_type": "markdown",
   "metadata": {},
   "source": [
    "First, we identify days on which the daily tmax exceeds the corresponding thrshold, which are then filtered.\n",
    "\n",
    "From these, the consecutive events are identified and then the events with a minimum duration of three days are selected."
   ]
  },
  {
   "cell_type": "code",
   "execution_count": 162,
   "metadata": {},
   "outputs": [
    {
     "name": "stderr",
     "output_type": "stream",
     "text": [
      "/g/data3/hh5/public/apps/miniconda3/envs/analysis3-19.10/lib/python3.6/site-packages/xarray/core/indexing.py:1302: PerformanceWarning: Slicing with an out-of-order index is generating 30 times more chunks\n",
      "  return self.array[key]\n"
     ]
    }
   ],
   "source": [
    "heatwave_days = (obs_tmax.groupby('time.dayofyear') > tmax_threshold).astype(int)"
   ]
  },
  {
   "cell_type": "code",
   "execution_count": 163,
   "metadata": {},
   "outputs": [],
   "source": [
    "# Creating new coordinate for event duration \n",
    "\n",
    "heatwave_days = heatwave_days.assign_coords({'event_duration': heatwave_days.dayofyear*0})"
   ]
  },
  {
   "cell_type": "code",
   "execution_count": 164,
   "metadata": {},
   "outputs": [],
   "source": [
    "heatwave_events = np.where(heatwave_days==1)"
   ]
  },
  {
   "cell_type": "code",
   "execution_count": 165,
   "metadata": {},
   "outputs": [],
   "source": [
    "counters = consecutive(heatwave_events[0].tolist())"
   ]
  },
  {
   "cell_type": "code",
   "execution_count": 166,
   "metadata": {},
   "outputs": [],
   "source": [
    "hottest_single = [(x[0], x.size) for x in counters if x.size >= 3]"
   ]
  },
  {
   "cell_type": "markdown",
   "metadata": {},
   "source": [
    "The duration of the event is assigned to the event_duration coordinates"
   ]
  },
  {
   "cell_type": "code",
   "execution_count": 167,
   "metadata": {},
   "outputs": [],
   "source": [
    "for x in counters:\n",
    "    if x.size >= 3:\n",
    "        for y in range(x.size):\n",
    "            heatwave_days.event_duration[x[0] +y -1] = x.size"
   ]
  },
  {
   "cell_type": "markdown",
   "metadata": {},
   "source": [
    "## Plotting"
   ]
  },
  {
   "cell_type": "code",
   "execution_count": 168,
   "metadata": {},
   "outputs": [
    {
     "data": {
      "text/plain": [
       "[<matplotlib.lines.Line2D at 0x7f1b7a4a3400>]"
      ]
     },
     "execution_count": 168,
     "metadata": {},
     "output_type": "execute_result"
    },
    {
     "data": {
      "image/png": "[encoded data removed]",
      "text/plain": [
       "<Figure size 432x288 with 1 Axes>"
      ]
     },
     "metadata": {
      "needs_background": "light"
     },
     "output_type": "display_data"
    }
   ],
   "source": [
    "heatwave_days.event_duration[1170:1190].plot()"
   ]
  },
  {
   "cell_type": "code",
   "execution_count": null,
   "metadata": {},
   "outputs": [],
   "source": []
  }
 ],
 "metadata": {
  "hide_input": false,
  "kernelspec": {
   "display_name": "Python [conda env:analysis3-19.10]",
   "language": "python",
   "name": "conda-env-analysis3-19.10-py"
  },
  "language_info": {
   "codemirror_mode": {
    "name": "ipython",
    "version": 3
   },
   "file_extension": ".py",
   "mimetype": "text/x-python",
   "name": "python",
   "nbconvert_exporter": "python",
   "pygments_lexer": "ipython3",
   "version": "3.6.7"
  },
  "varInspector": {
   "cols": {
    "lenName": 16,
    "lenType": 16,
    "lenVar": 40
   },
   "kernels_config": {
    "python": {
     "delete_cmd_postfix": "",
     "delete_cmd_prefix": "del ",
     "library": "var_list.py",
     "varRefreshCmd": "print(var_dic_list())"
    },
    "r": {
     "delete_cmd_postfix": ") ",
     "delete_cmd_prefix": "rm(",
     "library": "var_list.r",
     "varRefreshCmd": "cat(var_dic_list()) "
    }
   },
   "position": {
    "height": "391.85px",
    "left": "1249px",
    "right": "20px",
    "top": "11px",
    "width": "347.333px"
   },
   "types_to_exclude": [
    "module",
    "function",
    "builtin_function_or_method",
    "instance",
    "_Feature"
   ],
   "window_display": false
  }
 },
 "nbformat": 4,
 "nbformat_minor": 2
}
