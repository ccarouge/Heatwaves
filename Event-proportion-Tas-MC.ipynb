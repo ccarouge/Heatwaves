{
 "cells": [
  {
   "cell_type": "code",
   "execution_count": 1,
   "metadata": {},
   "outputs": [],
   "source": [
    "import glob\n",
    "import matplotlib.pyplot as plt\n",
    "import numpy as np\n",
    "import xarray as xr"
   ]
  },
  {
   "cell_type": "markdown",
   "metadata": {},
   "source": [
    "thw_new.nc and mhw_new.nc are files with heatwave days for coastal and adjacent ocean cells respectively (in and around Tasmania). combined.nc is the addition of both"
   ]
  },
  {
   "cell_type": "code",
   "execution_count": 2,
   "metadata": {},
   "outputs": [],
   "source": [
    "thw_da = xr.open_dataarray('thw_new.nc')\n",
    "mhw_da = xr.open_dataarray('mhw_new.nc')\n",
    "combined_da = xr.open_dataarray('combined.nc')"
   ]
  },
  {
   "cell_type": "markdown",
   "metadata": {},
   "source": [
    "Analysis for one grid cell"
   ]
  },
  {
   "cell_type": "code",
   "execution_count": 3,
   "metadata": {},
   "outputs": [],
   "source": [
    "thw = np.asarray(thw_da[90])\n",
    "mhw = np.asarray(mhw_da[90])\n",
    "add = np.asarray(combined_da[90])"
   ]
  },
  {
   "cell_type": "code",
   "execution_count": 4,
   "metadata": {},
   "outputs": [
    {
     "data": {
      "text/plain": [
       "171"
      ]
     },
     "execution_count": 4,
     "metadata": {},
     "output_type": "execute_result"
    }
   ],
   "source": [
    "sum(add==2)"
   ]
  },
  {
   "cell_type": "markdown",
   "metadata": {},
   "source": [
    "Proportion of co-occurring events over non co-occurring events (with respect to total number of terrestrial heatwave days"
   ]
  },
  {
   "cell_type": "code",
   "execution_count": 5,
   "metadata": {},
   "outputs": [
    {
     "data": {
      "text/plain": [
       "0.48169014084507045"
      ]
     },
     "execution_count": 5,
     "metadata": {},
     "output_type": "execute_result"
    }
   ],
   "source": [
    "co_occ = sum(add==2)\n",
    "non_co_occ = sum(thw==1) - co_occ\n",
    "prop = co_occ/non_co_occ\n",
    "prop"
   ]
  },
  {
   "cell_type": "markdown",
   "metadata": {},
   "source": [
    "## Monte Carlo simulation "
   ]
  },
  {
   "cell_type": "code",
   "execution_count": 19,
   "metadata": {},
   "outputs": [],
   "source": [
    "proportion_rand_v2 = []\n",
    "thw_ = []\n",
    "N = len(thw)\n",
    "for n in range (10000):\n",
    "    # cut THW timeseries at a random point and swap the beginning and end \n",
    "    r = int(np.ceil(np.random.randint(N-1)))\n",
    "    thw_[0:r] = thw[-1-r+1:]\n",
    "    thw_[r:N] = thw[0:-1-r+1]\n",
    "    thw_ = np.array(thw_)\n",
    "    \n",
    "    # calculate proportion\n",
    "    add = mhw + thw_\n",
    "    co_occ = sum(add==2)\n",
    "    non_co_occ = sum(thw_==1) - co_occ\n",
    "    prop_rand_v2 = co_occ/non_co_occ\n",
    "    proportion_rand_v2.append(prop_rand_v2)"
   ]
  },
  {
   "cell_type": "markdown",
   "metadata": {},
   "source": [
    "## Plotting the probability distribution function "
   ]
  },
  {
   "cell_type": "code",
   "execution_count": 20,
   "metadata": {},
   "outputs": [
    {
     "data": {
      "image/png": "[encoded data removed]",
      "text/plain": [
       "<Figure size 720x432 with 1 Axes>"
      ]
     },
     "metadata": {
      "needs_background": "light"
     },
     "output_type": "display_data"
    }
   ],
   "source": [
    "import scipy.stats as st\n",
    "fig, ax = plt.subplots(figsize=(10,6)) \n",
    "plt.hist(proportion_rand_v2, density=True, bins=40, label=\"Proportion of THWs with co-occurring MHWs\")\n",
    "plt.xlim(xmin=0, xmax = 0.5)\n",
    "plt.axvline(x=0.48, color='r', linewidth=4)\n",
    "plt.ylabel('Count', fontsize=16)\n",
    "plt.xlabel('Proportion of co-occurring over non co-occurring events', fontsize=16)\n",
    "\n",
    "plt.savefig('Tas-single-point-v2')"
   ]
  }
 ],
 "metadata": {
  "hide_input": false,
  "kernelspec": {
   "display_name": "Python 3",
   "language": "python",
   "name": "python3"
  },
  "language_info": {
   "codemirror_mode": {
    "name": "ipython",
    "version": 3
   },
   "file_extension": ".py",
   "mimetype": "text/x-python",
   "name": "python",
   "nbconvert_exporter": "python",
   "pygments_lexer": "ipython3",
   "version": "3.7.6"
  },
  "varInspector": {
   "cols": {
    "lenName": 16,
    "lenType": 16,
    "lenVar": 40
   },
   "kernels_config": {
    "python": {
     "delete_cmd_postfix": "",
     "delete_cmd_prefix": "del ",
     "library": "var_list.py",
     "varRefreshCmd": "print(var_dic_list())"
    },
    "r": {
     "delete_cmd_postfix": ") ",
     "delete_cmd_prefix": "rm(",
     "library": "var_list.r",
     "varRefreshCmd": "cat(var_dic_list()) "
    }
   },
   "types_to_exclude": [
    "module",
    "function",
    "builtin_function_or_method",
    "instance",
    "_Feature"
   ],
   "window_display": false
  }
 },
 "nbformat": 4,
 "nbformat_minor": 4
}
