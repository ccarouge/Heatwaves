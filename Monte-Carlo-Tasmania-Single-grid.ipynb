{
 "cells": [
  {
   "cell_type": "markdown",
   "metadata": {},
   "source": [
    "Loaded a single grid cell as a text file | Alternatively can load multiple grid cells as netCDF file"
   ]
  },
  {
   "cell_type": "code",
   "execution_count": 13,
   "metadata": {},
   "outputs": [],
   "source": [
    "import matplotlib.pyplot as plt\n",
    "import numpy as np\n",
    "import xarray as xr"
   ]
  },
  {
   "cell_type": "code",
   "execution_count": 14,
   "metadata": {},
   "outputs": [],
   "source": [
    "thw = np.loadtxt('thw_new.txt')\n",
    "mhw = np.loadtxt('mhw_new.txt')"
   ]
  },
  {
   "cell_type": "code",
   "execution_count": 12,
   "metadata": {},
   "outputs": [],
   "source": [
    "thw_da = xr.open_dataarray('thw_new.nc')\n",
    "mhw_da = xr.open_dataarray('mhw_new.nc')\n",
    "combined_da = xr.open_dataarray('combined.nc')"
   ]
  },
  {
   "cell_type": "markdown",
   "metadata": {},
   "source": [
    "## Proportion of co-occurring events over non co-occurring events "
   ]
  },
  {
   "cell_type": "code",
   "execution_count": 44,
   "metadata": {},
   "outputs": [
    {
     "data": {
      "text/plain": [
       "0.4092664092664093"
      ]
     },
     "execution_count": 44,
     "metadata": {},
     "output_type": "execute_result"
    }
   ],
   "source": [
    "add = mhw+thw\n",
    "co_occ = sum(add==2)\n",
    "non_co_occ = sum(thw==1) - co_occ\n",
    "prop = co_occ/non_co_occ\n",
    "prop"
   ]
  },
  {
   "cell_type": "code",
   "execution_count": 38,
   "metadata": {},
   "outputs": [],
   "source": [
    "proportion = []\n",
    "for n in range (10000):\n",
    "    thw_rand = np.random.permutation(thw)\n",
    "    add = mhw+thw_rand\n",
    "    co_occ = sum(add==2)\n",
    "    non_co_occ = sum(thw_rand==1) - co_occ\n",
    "    prop_rand = co_occ/non_co_occ\n",
    "    proportion.append(prop_rand)"
   ]
  },
  {
   "cell_type": "code",
   "execution_count": 40,
   "metadata": {},
   "outputs": [
    {
     "data": {
      "image/png": "[encoded data removed]",
      "text/plain": [
       "<Figure size 720x432 with 1 Axes>"
      ]
     },
     "metadata": {
      "needs_background": "light"
     },
     "output_type": "display_data"
    }
   ],
   "source": [
    "import scipy.stats as st\n",
    "fig, ax = plt.subplots(figsize=(10,6)) \n",
    "plt.hist(proportion, density=True, bins=20, label=\"Proportion of THWs with co-occurring MHWs\")\n",
    "plt.xlim(xmin=0, xmax = 0.6)\n",
    "plt.axvline(x=0.409, color='r', linewidth=4)\n",
    "plt.ylabel('Count', fontsize=16)\n",
    "plt.xlabel('Proportion of co-occurring over non co-occurring events', fontsize=16)\n",
    "\n",
    "plt.savefig('mc-single-gridpoint-2')"
   ]
  },
  {
   "cell_type": "code",
   "execution_count": 42,
   "metadata": {},
   "outputs": [],
   "source": [
    "prop_calc = np.asarray(proportion)"
   ]
  },
  {
   "cell_type": "code",
   "execution_count": 43,
   "metadata": {},
   "outputs": [
    {
     "data": {
      "text/plain": [
       "0.01975004831531967"
      ]
     },
     "execution_count": 43,
     "metadata": {},
     "output_type": "execute_result"
    }
   ],
   "source": [
    "from scipy.stats import norm\n",
    "pdf = norm.pdf(prop_calc)\n",
    "prob = pdf/pdf.sum()\n",
    "\n",
    "mu = prop_calc.dot(prob)\n",
    "mom2 = np.power(prop_calc, 2).dot(prob)\n",
    "var = mom2 - mu**2\n",
    "sd = np.sqrt(var)\n",
    "sd"
   ]
  },
  {
   "cell_type": "code",
   "execution_count": 45,
   "metadata": {},
   "outputs": [
    {
     "data": {
      "text/plain": [
       "20.722299142374784"
      ]
     },
     "execution_count": 45,
     "metadata": {},
     "output_type": "execute_result"
    }
   ],
   "source": [
    "difference = prop/sd\n",
    "difference"
   ]
  },
  {
   "cell_type": "markdown",
   "metadata": {},
   "source": [
    "## Proportion of THWs with co-occurring MHWs"
   ]
  },
  {
   "cell_type": "code",
   "execution_count": 28,
   "metadata": {},
   "outputs": [],
   "source": [
    "add = mhw+thw\n",
    "a = sum(mhw==1)\n",
    "c = sum(add==2)\n",
    "prop_thw_mhw = c/a"
   ]
  },
  {
   "cell_type": "code",
   "execution_count": 29,
   "metadata": {},
   "outputs": [
    {
     "data": {
      "text/plain": [
       "0.07528409090909091"
      ]
     },
     "execution_count": 29,
     "metadata": {},
     "output_type": "execute_result"
    }
   ],
   "source": [
    "prop_thw_mhw"
   ]
  },
  {
   "cell_type": "code",
   "execution_count": 21,
   "metadata": {},
   "outputs": [],
   "source": [
    "proportion_rand = []\n",
    "for n in range (10000):\n",
    "    mhw_rand = np.random.permutation(mhw)\n",
    "    thw_rand = np.random.permutation(thw)\n",
    "    add = mhw_rand+thw_rand\n",
    "    a = sum(mhw_rand==1)\n",
    "    c = sum(add==2)\n",
    "    prop_rand = c/a\n",
    "    proportion_rand.append(prop_rand)"
   ]
  },
  {
   "cell_type": "code",
   "execution_count": 23,
   "metadata": {},
   "outputs": [
    {
     "data": {
      "image/png": "[encoded data removed]",
      "text/plain": [
       "<Figure size 720x432 with 1 Axes>"
      ]
     },
     "metadata": {
      "needs_background": "light"
     },
     "output_type": "display_data"
    }
   ],
   "source": [
    "import scipy.stats as st\n",
    "fig, ax = plt.subplots(figsize=(10,6)) \n",
    "plt.hist(proportion_rand, density=True, bins=20, label=\"Proportion of THWs with co-occurring MHWs\")\n",
    "plt.xlim(xmin=0, xmax = 0.08)\n",
    "plt.axvline(x=0.075, color='r', linewidth=4)\n",
    "plt.ylabel('Count', fontsize=16)\n",
    "plt.xlabel('Proportion of THWs with co-occurring MHWs', fontsize=16)\n",
    "\n",
    "plt.savefig('thw-co-mhw')"
   ]
  },
  {
   "cell_type": "code",
   "execution_count": 49,
   "metadata": {},
   "outputs": [],
   "source": [
    "proportion_rand_array = np.asarray(proportion_rand)"
   ]
  },
  {
   "cell_type": "code",
   "execution_count": 50,
   "metadata": {},
   "outputs": [],
   "source": [
    "from scipy.stats import norm \n",
    "pdf = norm.pdf(proportion_rand_array)\n",
    "prob = pdf/pdf.sum()"
   ]
  },
  {
   "cell_type": "code",
   "execution_count": 51,
   "metadata": {},
   "outputs": [
    {
     "data": {
      "text/plain": [
       "0.004105763915803442"
      ]
     },
     "execution_count": 51,
     "metadata": {},
     "output_type": "execute_result"
    }
   ],
   "source": [
    "mu = proportion_rand_array.dot(prob)\n",
    "mom2 = np.power(proportion_rand_array, 2).dot(prob)\n",
    "var = mom2 - mu**2\n",
    "sd = np.sqrt(var)\n",
    "sd"
   ]
  },
  {
   "cell_type": "code",
   "execution_count": 52,
   "metadata": {},
   "outputs": [
    {
     "data": {
      "text/plain": [
       "18.33619576111425"
      ]
     },
     "execution_count": 52,
     "metadata": {},
     "output_type": "execute_result"
    }
   ],
   "source": [
    "difference = prop_thw_mhw/sd\n",
    "difference "
   ]
  }
 ],
 "metadata": {
  "hide_input": false,
  "kernelspec": {
   "display_name": "Python 3",
   "language": "python",
   "name": "python3"
  },
  "language_info": {
   "codemirror_mode": {
    "name": "ipython",
    "version": 3
   },
   "file_extension": ".py",
   "mimetype": "text/x-python",
   "name": "python",
   "nbconvert_exporter": "python",
   "pygments_lexer": "ipython3",
   "version": "3.7.6"
  },
  "varInspector": {
   "cols": {
    "lenName": 16,
    "lenType": 16,
    "lenVar": 40
   },
   "kernels_config": {
    "python": {
     "delete_cmd_postfix": "",
     "delete_cmd_prefix": "del ",
     "library": "var_list.py",
     "varRefreshCmd": "print(var_dic_list())"
    },
    "r": {
     "delete_cmd_postfix": ") ",
     "delete_cmd_prefix": "rm(",
     "library": "var_list.r",
     "varRefreshCmd": "cat(var_dic_list()) "
    }
   },
   "position": {
    "height": "280.85px",
    "left": "1155px",
    "right": "20px",
    "top": "119px",
    "width": "345px"
   },
   "types_to_exclude": [
    "module",
    "function",
    "builtin_function_or_method",
    "instance",
    "_Feature"
   ],
   "window_display": false
  }
 },
 "nbformat": 4,
 "nbformat_minor": 4
}
