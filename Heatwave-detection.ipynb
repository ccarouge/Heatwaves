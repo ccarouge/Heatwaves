{
 "cells": [
  {
   "cell_type": "code",
   "execution_count": 1,
   "metadata": {},
   "outputs": [
    {
     "name": "stdout",
     "output_type": "stream",
     "text": [
      "Populating the interactive namespace from numpy and matplotlib\n"
     ]
    }
   ],
   "source": [
    "import dask as da\n",
    "from dask.distributed import LocalCluster, Client\n",
    "import glob\n",
    "import numpy as np\n",
    "import pandas as pd\n",
    "%pylab inline\n",
    "import scipy.ndimage as ndimage\n",
    "import xarray as xr"
   ]
  },
  {
   "cell_type": "code",
   "execution_count": 2,
   "metadata": {},
   "outputs": [
    {
     "name": "stderr",
     "output_type": "stream",
     "text": [
      "/g/data3/hh5/public/apps/miniconda3/envs/analysis3-19.07/lib/python3.6/site-packages/distributed/worker.py:475: UserWarning: The local_dir keyword has moved to local_directory\n",
      "  warnings.warn(\"The local_dir keyword has moved to local_directory\")\n",
      "/g/data3/hh5/public/apps/miniconda3/envs/analysis3-19.07/lib/python3.6/contextlib.py:88: UserWarning: Creating scratch directories is taking a surprisingly long time. This is often due to running workers on a network file system. Consider specifying a local-directory to point workers to write scratch data to a local disk.\n",
      "  next(self.gen)\n"
     ]
    },
    {
     "data": {
      "text/html": [
       "<table style=\"border: 2px solid white;\">\n",
       "<tr>\n",
       "<td style=\"vertical-align: top; border: 0px solid white\">\n",
       "<h3 style=\"text-align: left;\">Client</h3>\n",
       "<ul style=\"text-align: left; list-style: none; margin: 0; padding: 0;\">\n",
       "  <li><b>Scheduler: </b>inproc://10.0.64.28/18062/1</li>\n",
       "  <li><b>Dashboard: </b><a href='http://localhost:8787/status' target='_blank'>http://localhost:8787/status</a>\n",
       "</ul>\n",
       "</td>\n",
       "<td style=\"vertical-align: top; border: 0px solid white\">\n",
       "<h3 style=\"text-align: left;\">Cluster</h3>\n",
       "<ul style=\"text-align: left; list-style:none; margin: 0; padding: 0;\">\n",
       "  <li><b>Workers: </b>1</li>\n",
       "  <li><b>Cores: </b>8</li>\n",
       "  <li><b>Memory: </b>33.67 GB</li>\n",
       "</ul>\n",
       "</td>\n",
       "</tr>\n",
       "</table>"
      ],
      "text/plain": [
       "<Client: 'inproc://10.0.64.28/18062/1' processes=1 threads=8, memory=33.67 GB>"
      ]
     },
     "execution_count": 2,
     "metadata": {},
     "output_type": "execute_result"
    }
   ],
   "source": [
    "cluster = LocalCluster(processes=False, local_dir= \"/g/data1a/e14/cp3790/dask-workers\")\n",
    "client = Client(cluster)\n",
    "client"
   ]
  },
  {
   "cell_type": "code",
   "execution_count": 3,
   "metadata": {},
   "outputs": [],
   "source": [
    "# Opens Climatology and threshold files, that have been created before.\n",
    "\n",
    "localDir = \"/g/data/e14/cp3790/Charuni/\"\n",
    "thresh = xr.open_dataarray(localDir + 'threshold-region.nc')\n",
    "clim = xr.open_dataarray(localDir + 'clim-single-region.nc')"
   ]
  },
  {
   "cell_type": "code",
   "execution_count": 19,
   "metadata": {},
   "outputs": [],
   "source": [
    "# Opens ERA5 daily tmax data\n",
    "\n",
    "files = sorted(glob.glob('/g/data/e14/cp3790/Charuni/ERA5-new/era5_dailytmax_*.nc'))\n",
    "\n",
    "\n",
    "era5_dailytmax_aus = xr.open_mfdataset(files, combine='by_coords').sel(time=slice('2010', '2018'), longitude=slice(140, 145), latitude=slice(-32, -34))\n",
    "obs_tmax = era5_dailytmax_aus[\"dmax\"].load() #.sel(time=~((era5_dailytmax_aus[\"dmax\"].time.dt.month == 2) & (era5_dailytmax_aus[\"dmax\"].time.dt.day == 29)))\n",
    "obs_tmax.attrs['units'] = 'deg C'"
   ]
  },
  {
   "cell_type": "code",
   "execution_count": 20,
   "metadata": {},
   "outputs": [
    {
     "data": {
      "text/plain": [
       "<xarray.DataArray 'dmax' (time: 3287, latitude: 9, longitude: 21)>\n",
       "array([[[36.99035 , 37.22445 , 36.820824, ..., 31.041101, 30.432459,\n",
       "         29.723719],\n",
       "        [36.578667, 36.72558 , 37.3536  , ..., 31.265528, 30.639124,\n",
       "         29.770533],\n",
       "        [37.048485, 36.95159 , 37.382652, ..., 31.688501, 30.748896,\n",
       "         29.643   ],\n",
       "        ...,\n",
       "        [37.83956 , 38.21734 , 38.21734 , ..., 33.18508 , 32.31167 ,\n",
       "         31.564173],\n",
       "        [37.44561 , 37.752373, 37.891197, ..., 33.64361 , 32.726585,\n",
       "         31.956507],\n",
       "        [36.07012 , 36.376854, 36.95968 , ..., 34.613884, 33.52575 ,\n",
       "         32.400475]],\n",
       "\n",
       "       [[27.017908, 26.37536 , 26.191309, ..., 30.54223 , 29.818964,\n",
       "         29.271662],\n",
       "        [25.510004, 24.80932 , 24.851313, ..., 30.643946, 29.943293,\n",
       "         29.44604 ],\n",
       "        [24.61883 , 24.381495, 24.530024, ..., 30.319452, 30.07406 ,\n",
       "         29.601007],\n",
       "        ...,\n",
       "        [25.865198, 25.600428, 25.422815, ..., 28.462824, 28.637201,\n",
       "         28.7615  ],\n",
       "        [25.7344  , 25.539057, 25.408289, ..., 28.170618, 28.288477,\n",
       "         28.38534 ],\n",
       "        [25.613337, 25.309809, 25.409906, ..., 27.918756, 28.036615,\n",
       "         28.08343 ]],\n",
       "\n",
       "       [[26.602991, 26.242975, 26.378565, ..., 28.259424, 27.515162,\n",
       "         27.271357],\n",
       "        [25.146753, 24.743128, 25.06927 , ..., 28.324   , 27.58941 ,\n",
       "         27.323023],\n",
       "        [24.20553 , 24.116724, 24.580072, ..., 28.1448  , 27.813837,\n",
       "         27.52807 ],\n",
       "        ...,\n",
       "        [25.881342, 25.637537, 25.287226, ..., 27.319788, 27.402124,\n",
       "         27.402124],\n",
       "        [26.041162, 25.773157, 25.442194, ..., 27.05343 , 27.155115,\n",
       "         27.168055],\n",
       "        [26.087976, 25.819971, 25.648859, ..., 26.778955, 26.88714 ,\n",
       "         26.956537]],\n",
       "\n",
       "       ...,\n",
       "\n",
       "       [[40.31298 , 41.1531  , 41.618736, ..., 41.80111 , 41.748985,\n",
       "         41.890648],\n",
       "        [38.852562, 39.83596 , 41.11892 , ..., 41.994835, 41.934593,\n",
       "         41.986717],\n",
       "        [36.67901 , 38.261528, 40.343925, ..., 42.04531 , 41.92971 ,\n",
       "         41.94439 ],\n",
       "        ...,\n",
       "        [35.33416 , 35.908897, 36.087975, ..., 42.18371 , 42.03231 ,\n",
       "         41.82879 ],\n",
       "        [35.54418 , 35.366722, 35.448143, ..., 42.19674 , 42.12835 ,\n",
       "         41.93624 ],\n",
       "        [35.32766 , 35.15017 , 34.940147, ..., 41.919945, 41.851585,\n",
       "         41.872734]],\n",
       "\n",
       "       [[39.61126 , 39.27749 , 39.98736 , ..., 42.821953, 42.65426 ,\n",
       "         42.76821 ],\n",
       "        [38.030357, 37.719383, 38.52529 , ..., 42.958702, 42.78286 ,\n",
       "         42.696587],\n",
       "        [36.455956, 36.71157 , 37.615166, ..., 42.893578, 42.65914 ,\n",
       "         42.56469 ],\n",
       "        ...,\n",
       "        [34.122826, 34.90432 , 35.650017, ..., 41.775047, 41.703423,\n",
       "         41.57641 ],\n",
       "        [33.51879 , 34.10656 , 34.764305, ..., 41.578056, 41.504784,\n",
       "         41.475487],\n",
       "        [32.97988 , 33.566   , 34.054436, ..., 41.32894 , 41.25405 ,\n",
       "         41.36477 ]],\n",
       "\n",
       "       [[39.411003, 39.39962 , 39.3182  , ..., 41.374535, 41.149864,\n",
       "         41.372887],\n",
       "        [38.074303, 38.11828 , 38.562737, ..., 41.23452 , 41.027733,\n",
       "         40.972374],\n",
       "        [36.80111 , 37.2358  , 37.96685 , ..., 40.91378 , 40.759087,\n",
       "         40.728172],\n",
       "        ...,\n",
       "        [35.453026, 36.004936, 36.454308, ..., 40.03295 , 39.974327,\n",
       "         39.72686 ],\n",
       "        [35.05413 , 35.42208 , 35.855156, ..., 40.2723  , 39.443565,\n",
       "         39.368675],\n",
       "        [34.463097, 34.827812, 35.2788  , ..., 40.433464, 39.606377,\n",
       "         39.516838]]], dtype=float32)\n",
       "Coordinates:\n",
       "  * longitude  (longitude) float32 140.0 140.25 140.5 ... 144.5 144.75 145.0\n",
       "  * latitude   (latitude) float32 -32.0 -32.25 -32.5 ... -33.5 -33.75 -34.0\n",
       "  * time       (time) datetime64[ns] 2010-01-01 2010-01-02 ... 2018-12-31\n",
       "Attributes:\n",
       "    long_name:  Daily maximum temperature at 2 metres\n",
       "    units:      deg C"
      ]
     },
     "execution_count": 20,
     "metadata": {},
     "output_type": "execute_result"
    }
   ],
   "source": [
    "obs_tmax"
   ]
  },
  {
   "cell_type": "code",
   "execution_count": 21,
   "metadata": {},
   "outputs": [],
   "source": [
    "hw_days = obs_tmax.groupby('time.dayofyear') > thresh "
   ]
  },
  {
   "cell_type": "code",
   "execution_count": 22,
   "metadata": {},
   "outputs": [
    {
     "data": {
      "text/plain": [
       "<xarray.DataArray (time: 3287, latitude: 9, longitude: 21)>\n",
       "array([[[False, False, False, ..., False, False, False],\n",
       "        [False, False, False, ..., False, False, False],\n",
       "        [False, False, False, ..., False, False, False],\n",
       "        ...,\n",
       "        [False, False, False, ..., False, False, False],\n",
       "        [False, False, False, ..., False, False, False],\n",
       "        [False, False, False, ..., False, False, False]],\n",
       "\n",
       "       [[False, False, False, ..., False, False, False],\n",
       "        [False, False, False, ..., False, False, False],\n",
       "        [False, False, False, ..., False, False, False],\n",
       "        ...,\n",
       "        [False, False, False, ..., False, False, False],\n",
       "        [False, False, False, ..., False, False, False],\n",
       "        [False, False, False, ..., False, False, False]],\n",
       "\n",
       "       [[False, False, False, ..., False, False, False],\n",
       "        [False, False, False, ..., False, False, False],\n",
       "        [False, False, False, ..., False, False, False],\n",
       "        ...,\n",
       "        [False, False, False, ..., False, False, False],\n",
       "        [False, False, False, ..., False, False, False],\n",
       "        [False, False, False, ..., False, False, False]],\n",
       "\n",
       "       ...,\n",
       "\n",
       "       [[ True,  True,  True, ...,  True,  True,  True],\n",
       "        [ True,  True,  True, ...,  True,  True,  True],\n",
       "        [False,  True,  True, ...,  True,  True,  True],\n",
       "        ...,\n",
       "        [False, False, False, ...,  True,  True,  True],\n",
       "        [False, False, False, ...,  True,  True,  True],\n",
       "        [False, False, False, ...,  True,  True,  True]],\n",
       "\n",
       "       [[ True,  True,  True, ...,  True,  True,  True],\n",
       "        [ True, False, False, ...,  True,  True,  True],\n",
       "        [False, False, False, ...,  True,  True,  True],\n",
       "        ...,\n",
       "        [False, False, False, ...,  True,  True,  True],\n",
       "        [False, False, False, ...,  True,  True,  True],\n",
       "        [False, False, False, ...,  True,  True,  True]],\n",
       "\n",
       "       [[ True,  True,  True, ...,  True,  True,  True],\n",
       "        [False, False, False, ...,  True,  True,  True],\n",
       "        [False, False, False, ...,  True,  True,  True],\n",
       "        ...,\n",
       "        [False, False, False, ...,  True,  True,  True],\n",
       "        [False, False, False, ...,  True,  True,  True],\n",
       "        [False, False, False, ...,  True,  True,  True]]])\n",
       "Coordinates:\n",
       "  * longitude  (longitude) float32 140.0 140.25 140.5 ... 144.5 144.75 145.0\n",
       "  * latitude   (latitude) float32 -32.0 -32.25 -32.5 ... -33.5 -33.75 -34.0\n",
       "  * time       (time) datetime64[ns] 2010-01-01 2010-01-02 ... 2018-12-31\n",
       "    dayofyear  (time) int64 1 2 3 4 5 6 7 8 ... 358 359 360 361 362 363 364 365"
      ]
     },
     "execution_count": 22,
     "metadata": {},
     "output_type": "execute_result"
    }
   ],
   "source": [
    "hw_days"
   ]
  },
  {
   "cell_type": "code",
   "execution_count": 23,
   "metadata": {},
   "outputs": [],
   "source": [
    "# Creating new coordinate for event duration \n",
    "\n",
    "hw_days = hw_days.assign_coords({'event_duration': hw_days.dayofyear*0})"
   ]
  }
 ],
 "metadata": {
  "hide_input": false,
  "kernelspec": {
   "display_name": "Python 3",
   "language": "python",
   "name": "python3"
  },
  "language_info": {
   "codemirror_mode": {
    "name": "ipython",
    "version": 3
   },
   "file_extension": ".py",
   "mimetype": "text/x-python",
   "name": "python",
   "nbconvert_exporter": "python",
   "pygments_lexer": "ipython3",
   "version": "3.6.7"
  },
  "varInspector": {
   "cols": {
    "lenName": 16,
    "lenType": 16,
    "lenVar": 40
   },
   "kernels_config": {
    "python": {
     "delete_cmd_postfix": "",
     "delete_cmd_prefix": "del ",
     "library": "var_list.py",
     "varRefreshCmd": "print(var_dic_list())"
    },
    "r": {
     "delete_cmd_postfix": ") ",
     "delete_cmd_prefix": "rm(",
     "library": "var_list.r",
     "varRefreshCmd": "cat(var_dic_list()) "
    }
   },
   "position": {
    "height": "437.85px",
    "left": "1210px",
    "right": "20px",
    "top": "120px",
    "width": "353.333px"
   },
   "types_to_exclude": [
    "module",
    "function",
    "builtin_function_or_method",
    "instance",
    "_Feature"
   ],
   "window_display": false
  }
 },
 "nbformat": 4,
 "nbformat_minor": 2
}
