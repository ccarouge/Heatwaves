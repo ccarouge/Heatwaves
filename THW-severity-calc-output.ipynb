{
 "cells": [
  {
   "cell_type": "code",
   "execution_count": 1,
   "metadata": {},
   "outputs": [],
   "source": [
    "from cartopy import config\n",
    "import cartopy\n",
    "import cartopy.crs as ccrs\n",
    "import matplotlib.pyplot as plt\n",
    "import scipy.ndimage as ndimage\n",
    "from scipy.ndimage.measurements import label, find_objects\n",
    "import xarray as xr"
   ]
  },
  {
   "cell_type": "code",
   "execution_count": 5,
   "metadata": {},
   "outputs": [],
   "source": [
    "ds= xr.open_dataset('/g/data/e14/cp3790/Charuni/filtered_severity.nc').sel(time=slice('2012','2013'), longitude=145, latitude=-35)"
   ]
  },
  {
   "cell_type": "code",
   "execution_count": 6,
   "metadata": {},
   "outputs": [],
   "source": [
    "da=ds.to_array()"
   ]
  },
  {
   "cell_type": "code",
   "execution_count": 10,
   "metadata": {},
   "outputs": [
    {
     "data": {
      "text/plain": [
       "(array([[ 1,  1,  1,  1,  0,  0,  0,  0,  0,  0,  0,  0,  0,  0,  2,  2,\n",
       "          2,  2,  2,  2,  2,  2,  2,  2,  2,  2,  2,  2,  2,  0,  0,  0,\n",
       "          0,  0,  0,  0,  0,  0,  0,  0,  0,  0,  0,  0,  3,  3,  3,  3,\n",
       "          3,  3,  0,  0,  4,  4,  4,  4,  4,  4,  0,  0,  0,  0,  0,  0,\n",
       "          0,  0,  0,  0,  0,  0,  0,  0,  5,  5,  5,  0,  0,  0,  0,  0,\n",
       "          0,  0,  0,  0,  0,  0,  0,  0,  6,  6,  6,  6,  6,  6,  6,  6,\n",
       "          6,  0,  0,  0,  0,  0,  0,  7,  7,  7,  7,  7,  7,  0,  8,  8,\n",
       "          8,  8,  0,  0,  0,  0,  0,  0,  0,  0,  0,  0,  0,  0,  0,  0,\n",
       "          9,  9,  9,  9,  0,  0,  0,  0,  0,  0,  0,  0,  0,  0,  0,  0,\n",
       "          0,  0,  0,  0,  0, 10, 10, 10, 10, 10,  0,  0,  0,  0,  0,  0,\n",
       "          0,  0,  0, 11, 11, 11, 11,  0, 12, 12,  0, 13,  0,  0,  0,  0,\n",
       "         14,  0, 15, 15, 15,  0,  0,  0,  0,  0,  0,  0,  0, 16, 16, 16,\n",
       "         16, 16, 16,  0,  0,  0,  0,  0,  0, 17, 17, 17, 17, 17, 17,  0,\n",
       "          0,  0,  0,  0,  0,  0,  0, 18, 18, 18,  0, 19,  0,  0,  0, 20,\n",
       "         20, 20, 20,  0,  0,  0,  0,  0,  0, 21, 21, 21,  0,  0,  0,  0,\n",
       "          0,  0,  0,  0,  0, 22, 22, 22, 22, 22,  0,  0,  0, 23, 23, 23,\n",
       "          0,  0,  0,  0,  0,  0, 24, 24, 24, 24,  0,  0,  0, 25, 25, 25,\n",
       "          0,  0,  0, 26, 26, 26, 26,  0,  0,  0,  0,  0,  0,  0,  0, 27,\n",
       "         27, 27,  0, 28, 28, 28,  0,  0, 29, 29, 29,  0,  0, 30, 30, 30,\n",
       "         30,  0,  0, 31, 31, 31, 31,  0,  0,  0,  0,  0,  0,  0,  0,  0,\n",
       "          0,  0,  0,  0, 32, 32, 32, 32, 32, 32, 32, 32, 32, 32, 32, 32,\n",
       "          0,  0,  0,  0,  0,  0, 33,  0, 34, 34, 34, 34, 34, 34,  0,  0,\n",
       "          0, 35,  0, 36, 36, 36, 36,  0, 37, 37,  0, 38, 38, 38, 38, 38,\n",
       "         38, 38, 38, 38, 38, 38,  0,  0,  0,  0,  0,  0, 39, 39, 39, 39,\n",
       "          0, 40, 40, 40, 40, 40, 40, 40,  0,  0,  0,  0,  0,  0,  0,  0,\n",
       "         41, 41, 41, 41, 41, 41, 41, 41, 41, 41, 41, 41, 41, 41, 41, 41,\n",
       "         41, 41, 41, 41, 41, 41, 41, 41,  0,  0,  0,  0, 42, 42, 42, 42,\n",
       "         42, 42, 42, 42, 42, 42,  0,  0,  0,  0,  0,  0,  0,  0,  0,  0,\n",
       "         43, 43, 43, 43,  0,  0,  0,  0,  0,  0,  0, 44, 44, 44, 44, 44,\n",
       "         44, 44, 44, 44, 44, 44, 44,  0,  0,  0,  0,  0,  0,  0,  0,  0,\n",
       "         45, 45, 45, 45,  0,  0,  0,  0,  0,  0,  0,  0, 46, 46, 46, 46,\n",
       "         46, 46,  0,  0,  0,  0,  0,  0,  0,  0,  0,  0,  0,  0,  0,  0,\n",
       "          0,  0, 47,  0,  0,  0,  0,  0,  0,  0,  0,  0,  0,  0, 48, 48,\n",
       "         48,  0,  0,  0,  0,  0,  0,  0,  0,  0,  0, 49,  0, 50, 50, 50,\n",
       "         50, 50, 50, 50, 50, 50, 50,  0, 51,  0,  0,  0, 52, 52, 52, 52,\n",
       "         52, 52, 52, 52, 52, 52,  0,  0,  0,  0,  0,  0, 53, 53, 53, 53,\n",
       "         53,  0,  0,  0,  0,  0,  0,  0,  0,  0, 54, 54, 54,  0, 55, 55,\n",
       "          0, 56,  0,  0,  0,  0,  0,  0,  0,  0,  0, 57, 57, 57, 57, 57,\n",
       "         57, 57, 57, 57, 57, 57, 57, 57, 57, 57,  0,  0,  0,  0,  0,  0,\n",
       "          0,  0,  0,  0,  0, 58, 58, 58, 58, 58,  0, 59,  0, 60, 60,  0,\n",
       "          0,  0,  0,  0, 61,  0, 62, 62, 62,  0,  0,  0,  0,  0,  0,  0,\n",
       "          0, 63, 63, 63, 63,  0,  0,  0,  0,  0,  0,  0,  0, 64, 64, 64,\n",
       "          0,  0, 65, 65, 65, 65,  0,  0,  0,  0,  0,  0,  0,  0,  0, 66,\n",
       "         66, 66, 66,  0,  0,  0, 67, 67, 67, 67,  0,  0, 68, 68, 68,  0,\n",
       "          0,  0,  0,  0,  0,  0,  0,  0,  0,  0, 69, 69, 69, 69, 69, 69,\n",
       "         69, 69,  0,  0, 70, 70, 70, 70,  0, 71, 71]], dtype=int32), 71)"
      ]
     },
     "execution_count": 10,
     "metadata": {},
     "output_type": "execute_result"
    }
   ],
   "source": [
    "label(da.fillna(0))"
   ]
  }
 ],
 "metadata": {
  "hide_input": false,
  "kernelspec": {
   "display_name": "Python 3",
   "language": "python",
   "name": "python3"
  },
  "language_info": {
   "codemirror_mode": {
    "name": "ipython",
    "version": 3
   },
   "file_extension": ".py",
   "mimetype": "text/x-python",
   "name": "python",
   "nbconvert_exporter": "python",
   "pygments_lexer": "ipython3",
   "version": "3.6.7"
  },
  "varInspector": {
   "cols": {
    "lenName": 16,
    "lenType": 16,
    "lenVar": 40
   },
   "kernels_config": {
    "python": {
     "delete_cmd_postfix": "",
     "delete_cmd_prefix": "del ",
     "library": "var_list.py",
     "varRefreshCmd": "print(var_dic_list())"
    },
    "r": {
     "delete_cmd_postfix": ") ",
     "delete_cmd_prefix": "rm(",
     "library": "var_list.r",
     "varRefreshCmd": "cat(var_dic_list()) "
    }
   },
   "types_to_exclude": [
    "module",
    "function",
    "builtin_function_or_method",
    "instance",
    "_Feature"
   ],
   "window_display": false
  }
 },
 "nbformat": 4,
 "nbformat_minor": 2
}
