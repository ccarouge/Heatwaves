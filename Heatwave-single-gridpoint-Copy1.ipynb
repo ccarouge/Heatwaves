{
 "cells": [
  {
   "cell_type": "markdown",
   "metadata": {},
   "source": [
    "# Import modules and define functions"
   ]
  },
  {
   "cell_type": "code",
   "execution_count": 4,
   "metadata": {},
   "outputs": [],
   "source": [
    "import glob\n",
    "import holoviews as hv\n",
    "import matplotlib.cm as cm\n",
    "import matplotlib.colors as colors\n",
    "import matplotlib.pyplot as plt\n",
    "%matplotlib inline\n",
    "import numpy as np\n",
    "import pandas as pd\n",
    "from pandas import Series, DataFrame, Panel \n",
    "import xarray as xr "
   ]
  },
  {
   "cell_type": "markdown",
   "metadata": {},
   "source": [
    "Calculates daily climatology with a 15-day rolling window "
   ]
  },
  {
   "cell_type": "code",
   "execution_count": 5,
   "metadata": {},
   "outputs": [],
   "source": [
    "def daily_climatology (tmax):\n",
    "    \n",
    "    rolling_mean_dailytmax = tmax.rolling(time=15, center=True).mean()\n",
    "    \n",
    "    climatology = rolling_mean_dailytmax.groupby('time.dayofyear').mean('time')\n",
    "    \n",
    "    return climatology "
   ]
  },
  {
   "cell_type": "markdown",
   "metadata": {},
   "source": [
    "Calculates daily climatology of 90th percentile with a 15-day rolling window "
   ]
  },
  {
   "cell_type": "code",
   "execution_count": 6,
   "metadata": {},
   "outputs": [],
   "source": [
    "def climatology_90 (tmax):\n",
    "    rolling_mean_dailytmax = tmax.rolling(time=15, center=True).mean()\n",
    "    percentile_90 = rolling_mean_dailytmax.groupby('time.dayofyear').quantile(0.9)\n",
    "    \n",
    "    return percentile_90"
   ]
  },
  {
   "cell_type": "markdown",
   "metadata": {},
   "source": [
    "Identifies consecutive days on which the daily tmax exceeded the threshold "
   ]
  },
  {
   "cell_type": "code",
   "execution_count": 7,
   "metadata": {},
   "outputs": [],
   "source": [
    "def consecutive(data, stepsize=1):\n",
    "    return np.split(data, np.where(np.diff(data) != stepsize)[0]+1)"
   ]
  },
  {
   "cell_type": "markdown",
   "metadata": {},
   "source": [
    "Filters out events that lasted for a minimum of 3 days and returns day of the year and the duration of an event #doesn't work as expected "
   ]
  },
  {
   "cell_type": "code",
   "execution_count": 8,
   "metadata": {},
   "outputs": [],
   "source": [
    "def find_heat(x):\n",
    "    if x.size >= 3:\n",
    "        return x[0], x.size"
   ]
  },
  {
   "cell_type": "code",
   "execution_count": 9,
   "metadata": {},
   "outputs": [],
   "source": [
    "def duration (events):\n",
    "    return events[0], events.size   #problem with this function is that there is no iteration "
   ]
  },
  {
   "cell_type": "code",
   "execution_count": 10,
   "metadata": {},
   "outputs": [],
   "source": [
    "def duration2 (events):\n",
    "    return [(x[0], x.size) for x in events]"
   ]
  },
  {
   "cell_type": "markdown",
   "metadata": {},
   "source": [
    "# Opening yearly ERA5 surface Tmax files and dropped leap days"
   ]
  },
  {
   "cell_type": "code",
   "execution_count": 11,
   "metadata": {},
   "outputs": [],
   "source": [
    "files = sorted(glob.glob('/g/data/e14/cp3790/Charuni/ERA5-new/era5_dailytmax_*.nc'))\n",
    "\n",
    "#Slice the data for single lat lon in NSW\n",
    "era5_dailytmax_aus = xr.open_mfdataset(files, combine='by_coords').sel(time=slice('1982-12-25', '2013-01-07'), longitude=141.25, latitude=-33.75).load()\n",
    "daily_tmax = era5_dailytmax_aus[\"dmax\"].sel(time=~((era5_dailytmax_aus[\"dmax\"].time.dt.month == 2) & (era5_dailytmax_aus[\"dmax\"].time.dt.day == 29)))\n",
    "daily_tmax.attrs['units'] = 'deg C'"
   ]
  },
  {
   "cell_type": "markdown",
   "metadata": {},
   "source": [
    "# Code"
   ]
  },
  {
   "cell_type": "markdown",
   "metadata": {},
   "source": [
    "## For single year"
   ]
  },
  {
   "cell_type": "markdown",
   "metadata": {},
   "source": [
    "Calculate daily mean climatology and 90th percentile "
   ]
  },
  {
   "cell_type": "code",
   "execution_count": 12,
   "metadata": {},
   "outputs": [],
   "source": [
    "daily_mean = daily_climatology (daily_tmax)\n",
    "threshold = climatology_90 (daily_tmax)"
   ]
  },
  {
   "cell_type": "markdown",
   "metadata": {},
   "source": [
    "Select one year (2010 in this case) and compare each day of the year against the corresponding threshold value and return boolean 1s and 0s.\n",
    "\n",
    "The days on which the daily tmax exceeded the threshold are then filtered out.\n",
    "\n",
    "Consecutive days are identified "
   ]
  },
  {
   "cell_type": "code",
   "execution_count": 14,
   "metadata": {},
   "outputs": [],
   "source": [
    "year_2010 = daily_tmax.sel(time='2010')\n",
    "heatwave_days = (year_2010.groupby('time.dayofyear') > threshold).astype(int)"
   ]
  },
  {
   "cell_type": "code",
   "execution_count": 15,
   "metadata": {},
   "outputs": [
    {
     "data": {
      "text/html": [
       "<pre>&lt;xarray.DataArray (time: 365)&gt;\n",
       "array([1, 0, 0, 0, 0, 0, 1, 1, 1, 1, 1, 1, 0, 0, 0, 0, 0, 0, 0, 1, 1, 1,\n",
       "       0, 0, 1, 1, 0, 0, 0, 1, 1, 1, 1, 0, 0, 0, 0, 1, 1, 1, 1, 1, 0, 0,\n",
       "       0, 0, 0, 1, 1, 1, 1, 1, 0, 0, 0, 1, 1, 1, 0, 0, 0, 0, 0, 0, 0, 0,\n",
       "       0, 0, 0, 0, 0, 0, 0, 1, 1, 1, 1, 1, 1, 1, 0, 0, 0, 1, 1, 1, 1, 0,\n",
       "       0, 0, 0, 0, 0, 0, 1, 0, 0, 0, 0, 0, 0, 0, 0, 0, 0, 0, 1, 1, 1, 1,\n",
       "       1, 1, 1, 0, 0, 0, 0, 0, 0, 0, 1, 0, 1, 1, 0, 0, 0, 0, 1, 1, 0, 0,\n",
       "       0, 0, 0, 0, 0, 0, 0, 0, 0, 0, 0, 0, 0, 0, 0, 0, 0, 0, 0, 0, 0, 0,\n",
       "       0, 0, 0, 0, 0, 0, 0, 0, 0, 0, 0, 0, 1, 1, 1, 1, 1, 0, 0, 1, 1, 0,\n",
       "       0, 0, 0, 0, 0, 0, 0, 0, 0, 0, 0, 0, 0, 0, 1, 0, 0, 1, 0, 0, 0, 0,\n",
       "       0, 0, 0, 0, 0, 0, 0, 0, 0, 0, 0, 1, 1, 0, 0, 0, 0, 0, 0, 0, 0, 0,\n",
       "       0, 0, 0, 0, 0, 0, 0, 0, 0, 1, 0, 0, 0, 0, 0, 0, 0, 0, 0, 0, 0, 0,\n",
       "       1, 0, 0, 0, 0, 0, 0, 0, 0, 0, 0, 0, 0, 0, 0, 0, 0, 0, 0, 0, 0, 0,\n",
       "       0, 0, 0, 0, 0, 0, 0, 0, 0, 0, 0, 1, 1, 1, 1, 0, 0, 0, 1, 1, 1, 0,\n",
       "       0, 0, 0, 0, 0, 0, 0, 0, 1, 0, 0, 0, 0, 0, 0, 1, 0, 0, 0, 0, 0, 0,\n",
       "       0, 0, 1, 0, 1, 1, 1, 1, 0, 0, 0, 0, 0, 0, 0, 0, 1, 0, 0, 0, 0, 0,\n",
       "       0, 0, 0, 0, 0, 0, 0, 1, 1, 1, 1, 0, 0, 0, 0, 0, 0, 0, 0, 0, 0, 0,\n",
       "       0, 0, 0, 0, 0, 0, 0, 0, 0, 0, 1, 1, 1])\n",
       "Coordinates:\n",
       "    quantile   float64 0.9\n",
       "    longitude  float32 141.25\n",
       "    latitude   float32 -33.75\n",
       "  * time       (time) datetime64[ns] 2010-01-01 2010-01-02 ... 2010-12-31\n",
       "    dayofyear  (time) int64 1 2 3 4 5 6 7 8 ... 358 359 360 361 362 363 364 365</pre>"
      ],
      "text/plain": [
       "<xarray.DataArray (time: 365)>\n",
       "array([1, 0, 0, 0, 0, 0, 1, 1, 1, 1, 1, 1, 0, 0, 0, 0, 0, 0, 0, 1, 1, 1,\n",
       "       0, 0, 1, 1, 0, 0, 0, 1, 1, 1, 1, 0, 0, 0, 0, 1, 1, 1, 1, 1, 0, 0,\n",
       "       0, 0, 0, 1, 1, 1, 1, 1, 0, 0, 0, 1, 1, 1, 0, 0, 0, 0, 0, 0, 0, 0,\n",
       "       0, 0, 0, 0, 0, 0, 0, 1, 1, 1, 1, 1, 1, 1, 0, 0, 0, 1, 1, 1, 1, 0,\n",
       "       0, 0, 0, 0, 0, 0, 1, 0, 0, 0, 0, 0, 0, 0, 0, 0, 0, 0, 1, 1, 1, 1,\n",
       "       1, 1, 1, 0, 0, 0, 0, 0, 0, 0, 1, 0, 1, 1, 0, 0, 0, 0, 1, 1, 0, 0,\n",
       "       0, 0, 0, 0, 0, 0, 0, 0, 0, 0, 0, 0, 0, 0, 0, 0, 0, 0, 0, 0, 0, 0,\n",
       "       0, 0, 0, 0, 0, 0, 0, 0, 0, 0, 0, 0, 1, 1, 1, 1, 1, 0, 0, 1, 1, 0,\n",
       "       0, 0, 0, 0, 0, 0, 0, 0, 0, 0, 0, 0, 0, 0, 1, 0, 0, 1, 0, 0, 0, 0,\n",
       "       0, 0, 0, 0, 0, 0, 0, 0, 0, 0, 0, 1, 1, 0, 0, 0, 0, 0, 0, 0, 0, 0,\n",
       "       0, 0, 0, 0, 0, 0, 0, 0, 0, 1, 0, 0, 0, 0, 0, 0, 0, 0, 0, 0, 0, 0,\n",
       "       1, 0, 0, 0, 0, 0, 0, 0, 0, 0, 0, 0, 0, 0, 0, 0, 0, 0, 0, 0, 0, 0,\n",
       "       0, 0, 0, 0, 0, 0, 0, 0, 0, 0, 0, 1, 1, 1, 1, 0, 0, 0, 1, 1, 1, 0,\n",
       "       0, 0, 0, 0, 0, 0, 0, 0, 1, 0, 0, 0, 0, 0, 0, 1, 0, 0, 0, 0, 0, 0,\n",
       "       0, 0, 1, 0, 1, 1, 1, 1, 0, 0, 0, 0, 0, 0, 0, 0, 1, 0, 0, 0, 0, 0,\n",
       "       0, 0, 0, 0, 0, 0, 0, 1, 1, 1, 1, 0, 0, 0, 0, 0, 0, 0, 0, 0, 0, 0,\n",
       "       0, 0, 0, 0, 0, 0, 0, 0, 0, 0, 1, 1, 1])\n",
       "Coordinates:\n",
       "    quantile   float64 0.9\n",
       "    longitude  float32 141.25\n",
       "    latitude   float32 -33.75\n",
       "  * time       (time) datetime64[ns] 2010-01-01 2010-01-02 ... 2010-12-31\n",
       "    dayofyear  (time) int64 1 2 3 4 5 6 7 8 ... 358 359 360 361 362 363 364 365"
      ]
     },
     "execution_count": 15,
     "metadata": {},
     "output_type": "execute_result"
    }
   ],
   "source": [
    "heatwave_days"
   ]
  },
  {
   "cell_type": "code",
   "execution_count": 17,
   "metadata": {},
   "outputs": [
    {
     "data": {
      "text/plain": [
       "(array([  0,   6,   7,   8,   9,  10,  11,  19,  20,  21,  24,  25,  29,\n",
       "         30,  31,  32,  37,  38,  39,  40,  41,  47,  48,  49,  50,  51,\n",
       "         55,  56,  57,  73,  74,  75,  76,  77,  78,  79,  83,  84,  85,\n",
       "         86,  94, 106, 107, 108, 109, 110, 111, 112, 120, 122, 123, 128,\n",
       "        129, 166, 167, 168, 169, 170, 173, 174, 190, 193, 209, 210, 229,\n",
       "        242, 275, 276, 277, 278, 282, 283, 284, 294, 301, 310, 312, 313,\n",
       "        314, 315, 324, 337, 338, 339, 340, 362, 363, 364]),)"
      ]
     },
     "execution_count": 17,
     "metadata": {},
     "output_type": "execute_result"
    }
   ],
   "source": [
    "heatwave_events = np.where(heatwave_days==1)\n",
    "heatwave_events"
   ]
  },
  {
   "cell_type": "code",
   "execution_count": 19,
   "metadata": {},
   "outputs": [
    {
     "data": {
      "text/plain": [
       "[array([0]),\n",
       " array([ 6,  7,  8,  9, 10, 11]),\n",
       " array([19, 20, 21]),\n",
       " array([24, 25]),\n",
       " array([29, 30, 31, 32]),\n",
       " array([37, 38, 39, 40, 41]),\n",
       " array([47, 48, 49, 50, 51]),\n",
       " array([55, 56, 57]),\n",
       " array([73, 74, 75, 76, 77, 78, 79]),\n",
       " array([83, 84, 85, 86]),\n",
       " array([94]),\n",
       " array([106, 107, 108, 109, 110, 111, 112]),\n",
       " array([120]),\n",
       " array([122, 123]),\n",
       " array([128, 129]),\n",
       " array([166, 167, 168, 169, 170]),\n",
       " array([173, 174]),\n",
       " array([190]),\n",
       " array([193]),\n",
       " array([209, 210]),\n",
       " array([229]),\n",
       " array([242]),\n",
       " array([275, 276, 277, 278]),\n",
       " array([282, 283, 284]),\n",
       " array([294]),\n",
       " array([301]),\n",
       " array([310]),\n",
       " array([312, 313, 314, 315]),\n",
       " array([324]),\n",
       " array([337, 338, 339, 340]),\n",
       " array([362, 363, 364])]"
      ]
     },
     "execution_count": 19,
     "metadata": {},
     "output_type": "execute_result"
    }
   ],
   "source": [
    "counters = consecutive(heatwave_events[0].tolist())\n",
    "counters"
   ]
  },
  {
   "cell_type": "markdown",
   "metadata": {},
   "source": [
    "Events that last for at least 3 consecutive days are filtered and assigned to new array 'hottest' and gives us the start day of event and the number of days "
   ]
  },
  {
   "cell_type": "code",
   "execution_count": 20,
   "metadata": {},
   "outputs": [],
   "source": [
    "hottest_single = [(x[0], x.size) for x in counters if x.size >= 3]"
   ]
  },
  {
   "cell_type": "code",
   "execution_count": 21,
   "metadata": {},
   "outputs": [
    {
     "data": {
      "text/plain": [
       "[(6, 6),\n",
       " (19, 3),\n",
       " (29, 4),\n",
       " (37, 5),\n",
       " (47, 5),\n",
       " (55, 3),\n",
       " (73, 7),\n",
       " (83, 4),\n",
       " (106, 7),\n",
       " (166, 5),\n",
       " (275, 4),\n",
       " (282, 3),\n",
       " (312, 4),\n",
       " (337, 4),\n",
       " (362, 3)]"
      ]
     },
     "execution_count": 21,
     "metadata": {},
     "output_type": "execute_result"
    }
   ],
   "source": [
    "hottest_single"
   ]
  },
  {
   "cell_type": "markdown",
   "metadata": {},
   "source": [
    "## For multiple years "
   ]
  },
  {
   "cell_type": "code",
   "execution_count": 18,
   "metadata": {},
   "outputs": [],
   "source": [
    "multiple_years = daily_tmax.sel(time=slice('2010', '2012'))"
   ]
  }
 ],
 "metadata": {
  "hide_input": false,
  "kernelspec": {
   "display_name": "Python [conda env:analysis3-19.10]",
   "language": "python",
   "name": "conda-env-analysis3-19.10-py"
  },
  "language_info": {
   "codemirror_mode": {
    "name": "ipython",
    "version": 3
   },
   "file_extension": ".py",
   "mimetype": "text/x-python",
   "name": "python",
   "nbconvert_exporter": "python",
   "pygments_lexer": "ipython3",
   "version": "3.6.7"
  },
  "varInspector": {
   "cols": {
    "lenName": 16,
    "lenType": 16,
    "lenVar": 40
   },
   "kernels_config": {
    "python": {
     "delete_cmd_postfix": "",
     "delete_cmd_prefix": "del ",
     "library": "var_list.py",
     "varRefreshCmd": "print(var_dic_list())"
    },
    "r": {
     "delete_cmd_postfix": ") ",
     "delete_cmd_prefix": "rm(",
     "library": "var_list.r",
     "varRefreshCmd": "cat(var_dic_list()) "
    }
   },
   "position": {
    "height": "723.85px",
    "left": "1318px",
    "right": "20px",
    "top": "14px",
    "width": "549px"
   },
   "types_to_exclude": [
    "module",
    "function",
    "builtin_function_or_method",
    "instance",
    "_Feature"
   ],
   "window_display": false
  }
 },
 "nbformat": 4,
 "nbformat_minor": 2
}
