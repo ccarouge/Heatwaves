{
 "cells": [
  {
   "cell_type": "markdown",
   "metadata": {},
   "source": [
    "# Import modules and define functions"
   ]
  },
  {
   "cell_type": "code",
   "execution_count": 1,
   "metadata": {},
   "outputs": [],
   "source": [
    "import glob\n",
    "import holoviews as hv\n",
    "import matplotlib.cm as cm\n",
    "import matplotlib.colors as colors\n",
    "import matplotlib.pyplot as plt\n",
    "%matplotlib inline\n",
    "import numpy as np\n",
    "import pandas as pd\n",
    "from pandas import Series, DataFrame, Panel \n",
    "import xarray as xr "
   ]
  },
  {
   "cell_type": "markdown",
   "metadata": {},
   "source": [
    "Calculates daily climatology with a 15-day rolling window "
   ]
  },
  {
   "cell_type": "code",
   "execution_count": 2,
   "metadata": {},
   "outputs": [],
   "source": [
    "def daily_climatology (tmax):\n",
    "    \n",
    "    rolling_mean_dailytmax = tmax.rolling(time=15, center=True).mean()\n",
    "    \n",
    "    climatology = rolling_mean_dailytmax.groupby('time.dayofyear').mean('time')\n",
    "    \n",
    "    return climatology "
   ]
  },
  {
   "cell_type": "markdown",
   "metadata": {},
   "source": [
    "Calculates daily climatology of 90th percentile with a 15-day rolling window "
   ]
  },
  {
   "cell_type": "code",
   "execution_count": 3,
   "metadata": {},
   "outputs": [],
   "source": [
    "def climatology_90 (tmax):\n",
    "    rolling_mean_dailytmax = tmax.rolling(time=15, center=True).mean()\n",
    "    percentile_90 = rolling_mean_dailytmax.groupby('time.dayofyear').quantile(0.9)\n",
    "    \n",
    "    return percentile_90"
   ]
  },
  {
   "cell_type": "markdown",
   "metadata": {},
   "source": [
    "Identifies consecutive days on which the daily tmax exceeded the threshold "
   ]
  },
  {
   "cell_type": "code",
   "execution_count": 4,
   "metadata": {},
   "outputs": [],
   "source": [
    "def consecutive(data, stepsize=1):\n",
    "    return np.split(data, np.where(np.diff(data) != stepsize)[0]+1)"
   ]
  },
  {
   "cell_type": "markdown",
   "metadata": {},
   "source": [
    "Filters out events that lasted for a minimum of 3 days and returns day of the year and the duration of an event #doesn't work as expected "
   ]
  },
  {
   "cell_type": "code",
   "execution_count": 5,
   "metadata": {},
   "outputs": [],
   "source": [
    "def find_heat(x):\n",
    "    if x.size >= 3:\n",
    "        return x[0], x.size"
   ]
  },
  {
   "cell_type": "code",
   "execution_count": 6,
   "metadata": {},
   "outputs": [],
   "source": [
    "def duration (events):\n",
    "    return events[0], events.size   #problem with this function is that there is no iteration "
   ]
  },
  {
   "cell_type": "code",
   "execution_count": 7,
   "metadata": {},
   "outputs": [],
   "source": [
    "def duration2 (events):\n",
    "    return [(x[0], x.size) for x in events]"
   ]
  },
  {
   "cell_type": "markdown",
   "metadata": {},
   "source": [
    "# Opening yearly ERA5 surface Tmax files and dropped leap days"
   ]
  },
  {
   "cell_type": "code",
   "execution_count": 8,
   "metadata": {},
   "outputs": [],
   "source": [
    "files = sorted(glob.glob('/g/data/e14/cp3790/Charuni/ERA5-new/era5_dailytmax_*.nc'))\n",
    "\n",
    "#Slice the data for single lat lon in NSW\n",
    "era5_dailytmax_aus = xr.open_mfdataset(files, combine='by_coords').sel(time=slice('1982-12-25', '2013-01-07'), longitude=141.25, latitude=-33.75).load()\n",
    "daily_tmax = era5_dailytmax_aus[\"dmax\"].sel(time=~((era5_dailytmax_aus[\"dmax\"].time.dt.month == 2) & (era5_dailytmax_aus[\"dmax\"].time.dt.day == 29)))\n",
    "daily_tmax.attrs['units'] = 'deg C'"
   ]
  },
  {
   "cell_type": "markdown",
   "metadata": {},
   "source": [
    "# Code"
   ]
  },
  {
   "cell_type": "markdown",
   "metadata": {},
   "source": [
    "## For single year"
   ]
  },
  {
   "cell_type": "markdown",
   "metadata": {},
   "source": [
    "Calculate daily mean climatology and 90th percentile "
   ]
  },
  {
   "cell_type": "code",
   "execution_count": 9,
   "metadata": {},
   "outputs": [],
   "source": [
    "daily_mean = daily_climatology (daily_tmax)\n",
    "threshold = climatology_90 (daily_tmax)"
   ]
  },
  {
   "cell_type": "markdown",
   "metadata": {},
   "source": [
    "Select one year (2010 in this case) and compare each day of the year against the corresponding threshold value and return boolean 1s and 0s.\n",
    "\n",
    "The days on which the daily tmax exceeded the threshold are then filtered out.\n",
    "\n",
    "Consecutive days are identified "
   ]
  },
  {
   "cell_type": "code",
   "execution_count": 10,
   "metadata": {},
   "outputs": [],
   "source": [
    "year_2010 = daily_tmax.sel(time='2010')\n",
    "heatwave_days = (year_2010.groupby('time.dayofyear') > threshold).astype(int)\n",
    "heatwave_events = np.where(heatwave_days==1)\n",
    "counters = consecutive(heatwave_events[0].tolist())"
   ]
  },
  {
   "cell_type": "markdown",
   "metadata": {},
   "source": [
    "Events that last for at least 3 consecutive days are filtered and assigned to new array 'hottest' and gives us the start day of event and the number of days "
   ]
  },
  {
   "cell_type": "code",
   "execution_count": 11,
   "metadata": {},
   "outputs": [],
   "source": [
    "hottest_single = [(x[0], x.size) for x in counters if x.size >= 3]"
   ]
  },
  {
   "cell_type": "code",
   "execution_count": 12,
   "metadata": {},
   "outputs": [
    {
     "data": {
      "text/plain": [
       "[(6, 6),\n",
       " (19, 3),\n",
       " (29, 4),\n",
       " (37, 5),\n",
       " (47, 5),\n",
       " (55, 3),\n",
       " (73, 7),\n",
       " (83, 4),\n",
       " (106, 7),\n",
       " (166, 5),\n",
       " (275, 4),\n",
       " (282, 3),\n",
       " (312, 4),\n",
       " (337, 4),\n",
       " (362, 3)]"
      ]
     },
     "execution_count": 12,
     "metadata": {},
     "output_type": "execute_result"
    }
   ],
   "source": [
    "hottest_single"
   ]
  },
  {
   "cell_type": "markdown",
   "metadata": {},
   "source": [
    "## For multiple years "
   ]
  },
  {
   "cell_type": "code",
   "execution_count": 18,
   "metadata": {},
   "outputs": [],
   "source": [
    "multiple_years = daily_tmax.sel(time=slice('2010', '2012'))"
   ]
  }
 ],
 "metadata": {
  "hide_input": false,
  "kernelspec": {
   "display_name": "Python [conda env:analysis3-19.10]",
   "language": "python",
   "name": "conda-env-analysis3-19.10-py"
  },
  "language_info": {
   "codemirror_mode": {
    "name": "ipython",
    "version": 3
   },
   "file_extension": ".py",
   "mimetype": "text/x-python",
   "name": "python",
   "nbconvert_exporter": "python",
   "pygments_lexer": "ipython3",
   "version": "3.6.7"
  },
  "varInspector": {
   "cols": {
    "lenName": 16,
    "lenType": 16,
    "lenVar": 40
   },
   "kernels_config": {
    "python": {
     "delete_cmd_postfix": "",
     "delete_cmd_prefix": "del ",
     "library": "var_list.py",
     "varRefreshCmd": "print(var_dic_list())"
    },
    "r": {
     "delete_cmd_postfix": ") ",
     "delete_cmd_prefix": "rm(",
     "library": "var_list.r",
     "varRefreshCmd": "cat(var_dic_list()) "
    }
   },
   "position": {
    "height": "723.85px",
    "left": "1318px",
    "right": "20px",
    "top": "14px",
    "width": "549px"
   },
   "types_to_exclude": [
    "module",
    "function",
    "builtin_function_or_method",
    "instance",
    "_Feature"
   ],
   "window_display": false
  }
 },
 "nbformat": 4,
 "nbformat_minor": 2
}
